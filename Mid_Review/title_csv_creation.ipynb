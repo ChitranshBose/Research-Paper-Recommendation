{
  "nbformat": 4,
  "nbformat_minor": 0,
  "metadata": {
    "colab": {
      "provenance": []
    },
    "kernelspec": {
      "name": "python3",
      "display_name": "Python 3"
    },
    "language_info": {
      "name": "python"
    }
  },
  "cells": [
    {
      "cell_type": "code",
      "execution_count": null,
      "metadata": {
        "id": "an10wQcSt2vJ"
      },
      "outputs": [],
      "source": [
        " "
      ]
    },
    {
      "cell_type": "code",
      "source": [
        "# mounting drives and specifying paths\n",
        "from google.colab import drive\n",
        "drive.mount('/content/drive')\n",
        "file_path = \"https://drive.google.com/drive/folders/13BSLxfp_XXp0k34rVLPjlACSKGUgTcHZ?usp=share_link\"\n",
        "#path_data_temp = \"/content/drive/MyDrive/CSE508_Winter2023_Dataset_temp/\""
      ],
      "metadata": {
        "colab": {
          "base_uri": "https://localhost:8080/"
        },
        "id": "zZC_EXv7uiW4",
        "outputId": "2ae25a9f-2981-46b7-c69e-1e3a30096f54"
      },
      "execution_count": null,
      "outputs": [
        {
          "output_type": "stream",
          "name": "stdout",
          "text": [
            "Mounted at /content/drive\n"
          ]
        }
      ]
    },
    {
      "cell_type": "code",
      "source": [
        "pip install PyPDF2 pandas\n"
      ],
      "metadata": {
        "colab": {
          "base_uri": "https://localhost:8080/"
        },
        "id": "oaEjZFTSuSt7",
        "outputId": "0b006668-2646-4ec5-9f71-61aa220684d8"
      },
      "execution_count": null,
      "outputs": [
        {
          "output_type": "stream",
          "name": "stdout",
          "text": [
            "Looking in indexes: https://pypi.org/simple, https://us-python.pkg.dev/colab-wheels/public/simple/\n",
            "Collecting PyPDF2\n",
            "  Downloading pypdf2-3.0.1-py3-none-any.whl (232 kB)\n",
            "\u001b[2K     \u001b[90m━━━━━━━━━━━━━━━━━━━━━━━━━━━━━━━━━━━━━━\u001b[0m \u001b[32m232.6/232.6 KB\u001b[0m \u001b[31m13.9 MB/s\u001b[0m eta \u001b[36m0:00:00\u001b[0m\n",
            "\u001b[?25hRequirement already satisfied: pandas in /usr/local/lib/python3.9/dist-packages (1.4.4)\n",
            "Requirement already satisfied: typing_extensions>=3.10.0.0 in /usr/local/lib/python3.9/dist-packages (from PyPDF2) (4.5.0)\n",
            "Requirement already satisfied: numpy>=1.18.5 in /usr/local/lib/python3.9/dist-packages (from pandas) (1.22.4)\n",
            "Requirement already satisfied: python-dateutil>=2.8.1 in /usr/local/lib/python3.9/dist-packages (from pandas) (2.8.2)\n",
            "Requirement already satisfied: pytz>=2020.1 in /usr/local/lib/python3.9/dist-packages (from pandas) (2022.7.1)\n",
            "Requirement already satisfied: six>=1.5 in /usr/local/lib/python3.9/dist-packages (from python-dateutil>=2.8.1->pandas) (1.15.0)\n",
            "Installing collected packages: PyPDF2\n",
            "Successfully installed PyPDF2-3.0.1\n"
          ]
        }
      ]
    },
    {
      "cell_type": "code",
      "source": [
        "file_path#0704.0213.pdf"
      ],
      "metadata": {
        "colab": {
          "base_uri": "https://localhost:8080/",
          "height": 36
        },
        "id": "qZk51aQMjr98",
        "outputId": "e3fcc178-49c5-4dfc-8d34-17cc8995f66f"
      },
      "execution_count": null,
      "outputs": [
        {
          "output_type": "execute_result",
          "data": {
            "text/plain": [
              "'https://drive.google.com/drive/folders/13BSLxfp_XXp0k34rVLPjlACSKGUgTcHZ?usp=share_link'"
            ],
            "application/vnd.google.colaboratory.intrinsic+json": {
              "type": "string"
            }
          },
          "metadata": {},
          "execution_count": 5
        }
      ]
    },
    {
      "cell_type": "code",
      "source": [
        " "
      ],
      "metadata": {
        "id": "TCRz3AopkUQj"
      },
      "execution_count": null,
      "outputs": []
    },
    {
      "cell_type": "code",
      "source": [
        "import os\n",
        "import pandas as pd\n",
        "import PyPDF2\n"
      ],
      "metadata": {
        "id": "GwElAl92uSwb"
      },
      "execution_count": null,
      "outputs": []
    },
    {
      "cell_type": "code",
      "source": [
        " import os\n",
        "import csv\n",
        "\n",
        "folder_path = '/content/drive/MyDrive/sampled_data_for_bda/sampled_data_for_bda/'\n",
        "\n",
        "pdf_files = [f for f in os.listdir(folder_path) if f.endswith('.pdf')]\n",
        "\n",
        "with open('pdf_names.csv', mode='w') as csv_file:\n",
        "    fieldnames = ['PDF_NAME']\n",
        "    writer = csv.DictWriter(csv_file, fieldnames=fieldnames)\n",
        "\n",
        "    writer.writeheader()\n",
        "    for pdf_file in pdf_files:\n",
        "        writer.writerow({'PDF_NAME': pdf_file})\n",
        "        print(pdf_file)\n",
        "\n"
      ],
      "metadata": {
        "id": "xLg3yZBPDO2Z"
      },
      "execution_count": null,
      "outputs": []
    },
    {
      "cell_type": "code",
      "source": [
        " "
      ],
      "metadata": {
        "id": "cU_y_6ijw_6H"
      },
      "execution_count": null,
      "outputs": []
    },
    {
      "cell_type": "code",
      "source": [
        " import PyPDF2\n",
        "import re\n",
        "import csv\n",
        "\n",
        "# replace path/to/your/folder with the path to your folder in Google Drive\n",
        "folder_path = '/content/drive/MyDrive/sampled_data_for_bda/sampled_data_for_bda/'\n",
        "\n",
        "# list of PDF file names in the folder\n",
        "pdf_files =pdf_files\n",
        "\n",
        "# iterate over the list of PDF files\n",
        "counter=0\n",
        "for pdf_file in pdf_files:\n",
        "     \n",
        "    counter=counter+1\n",
        "\n",
        "    # construct the path to the PDF file\n",
        "    pdf_path = folder_path + pdf_file\n",
        "\n",
        "    # open the PDF file\n",
        "    with open(pdf_path, 'rb') as f:\n",
        "        # create a PDF reader object\n",
        "        \n",
        "        pdf_reader = PyPDF2.PdfReader(f)\n",
        "        if pdf_reader is None:\n",
        "          continue\n",
        "        numPages = len(pdf_reader.pages)\n",
        "        for pageNum in range(numPages):\n",
        "            pageObj = pdf_reader.pages[pageNum]\n",
        "            text = pageObj.extract_text()\n",
        "            text = re.sub(r'[^\\x00-\\x7f]', r'', text)\n",
        "\n",
        "            with open('hehe.txt', 'a') as f:\n",
        "                f.write(text)\n",
        "\n",
        "        # get the document info\n",
        "        doc_info = pdf_reader.metadata\n",
        "\n",
        "        # get the title of the PDF file\n",
        "        \n",
        "        if doc_info is not None:\n",
        "           title = doc_info.title\n",
        "           # write the title to a CSV file\n",
        "           with open('title8.csv', mode='a') as file:\n",
        "              writer = csv.writer(file)\n",
        "              writer.writerow([title])\n",
        "        else:\n",
        "           # handle case where PDF file has no metadata\n",
        "           pass\n",
        "\n",
        "        \n"
      ],
      "metadata": {
        "id": "nqdW-fTcx5Ni"
      },
      "execution_count": null,
      "outputs": []
    },
    {
      "cell_type": "code",
      "source": [
        " \n",
        " \n"
      ],
      "metadata": {
        "id": "lkeaSeeJ-du1"
      },
      "execution_count": null,
      "outputs": []
    },
    {
      "cell_type": "code",
      "source": [
        " "
      ],
      "metadata": {
        "id": "U0SbdANtRM4Z"
      },
      "execution_count": null,
      "outputs": []
    },
    {
      "cell_type": "code",
      "source": [
        " "
      ],
      "metadata": {
        "id": "w-bbkOpRRYK6"
      },
      "execution_count": null,
      "outputs": []
    }
  ]
}