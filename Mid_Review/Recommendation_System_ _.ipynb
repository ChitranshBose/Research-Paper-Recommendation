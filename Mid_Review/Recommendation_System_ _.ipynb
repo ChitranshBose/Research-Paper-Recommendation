{
  "nbformat": 4,
  "nbformat_minor": 0,
  "metadata": {
    "colab": {
      "provenance": []
    },
    "kernelspec": {
      "name": "python3",
      "display_name": "Python 3"
    },
    "language_info": {
      "name": "python"
    }
  },
  "cells": [
    {
      "cell_type": "code",
      "execution_count": 105,
      "metadata": {
        "id": "m044uXMza1VA"
      },
      "outputs": [],
      "source": [
        "import numpy as np \n",
        "import pandas as pd"
      ]
    },
    {
      "cell_type": "code",
      "source": [
        "paper = pd.read_csv('research_new_dataset.csv')"
      ],
      "metadata": {
        "id": "wtw72F6Lbmc7"
      },
      "execution_count": 106,
      "outputs": []
    },
    {
      "cell_type": "code",
      "source": [
        "paper.head(2)"
      ],
      "metadata": {
        "colab": {
          "base_uri": "https://localhost:8080/",
          "height": 112
        },
        "id": "gIb3ACDebmfv",
        "outputId": "8fe29419-e0fa-4e9e-d17b-ff6454bf7d59"
      },
      "execution_count": 107,
      "outputs": [
        {
          "output_type": "execute_result",
          "data": {
            "text/plain": [
              "              PDF                                              TITLE\n",
              "0  2002.11028.pdf  An Empirical Study of Usages, Updates and Risk...\n",
              "1  2107.05368.pdf  Microsoft Word - 1-A Three Phase Semantic Web ..."
            ],
            "text/html": [
              "\n",
              "  <div id=\"df-b2b42d52-9807-4e21-a3f3-958568453755\">\n",
              "    <div class=\"colab-df-container\">\n",
              "      <div>\n",
              "<style scoped>\n",
              "    .dataframe tbody tr th:only-of-type {\n",
              "        vertical-align: middle;\n",
              "    }\n",
              "\n",
              "    .dataframe tbody tr th {\n",
              "        vertical-align: top;\n",
              "    }\n",
              "\n",
              "    .dataframe thead th {\n",
              "        text-align: right;\n",
              "    }\n",
              "</style>\n",
              "<table border=\"1\" class=\"dataframe\">\n",
              "  <thead>\n",
              "    <tr style=\"text-align: right;\">\n",
              "      <th></th>\n",
              "      <th>PDF</th>\n",
              "      <th>TITLE</th>\n",
              "    </tr>\n",
              "  </thead>\n",
              "  <tbody>\n",
              "    <tr>\n",
              "      <th>0</th>\n",
              "      <td>2002.11028.pdf</td>\n",
              "      <td>An Empirical Study of Usages, Updates and Risk...</td>\n",
              "    </tr>\n",
              "    <tr>\n",
              "      <th>1</th>\n",
              "      <td>2107.05368.pdf</td>\n",
              "      <td>Microsoft Word - 1-A Three Phase Semantic Web ...</td>\n",
              "    </tr>\n",
              "  </tbody>\n",
              "</table>\n",
              "</div>\n",
              "      <button class=\"colab-df-convert\" onclick=\"convertToInteractive('df-b2b42d52-9807-4e21-a3f3-958568453755')\"\n",
              "              title=\"Convert this dataframe to an interactive table.\"\n",
              "              style=\"display:none;\">\n",
              "        \n",
              "  <svg xmlns=\"http://www.w3.org/2000/svg\" height=\"24px\"viewBox=\"0 0 24 24\"\n",
              "       width=\"24px\">\n",
              "    <path d=\"M0 0h24v24H0V0z\" fill=\"none\"/>\n",
              "    <path d=\"M18.56 5.44l.94 2.06.94-2.06 2.06-.94-2.06-.94-.94-2.06-.94 2.06-2.06.94zm-11 1L8.5 8.5l.94-2.06 2.06-.94-2.06-.94L8.5 2.5l-.94 2.06-2.06.94zm10 10l.94 2.06.94-2.06 2.06-.94-2.06-.94-.94-2.06-.94 2.06-2.06.94z\"/><path d=\"M17.41 7.96l-1.37-1.37c-.4-.4-.92-.59-1.43-.59-.52 0-1.04.2-1.43.59L10.3 9.45l-7.72 7.72c-.78.78-.78 2.05 0 2.83L4 21.41c.39.39.9.59 1.41.59.51 0 1.02-.2 1.41-.59l7.78-7.78 2.81-2.81c.8-.78.8-2.07 0-2.86zM5.41 20L4 18.59l7.72-7.72 1.47 1.35L5.41 20z\"/>\n",
              "  </svg>\n",
              "      </button>\n",
              "      \n",
              "  <style>\n",
              "    .colab-df-container {\n",
              "      display:flex;\n",
              "      flex-wrap:wrap;\n",
              "      gap: 12px;\n",
              "    }\n",
              "\n",
              "    .colab-df-convert {\n",
              "      background-color: #E8F0FE;\n",
              "      border: none;\n",
              "      border-radius: 50%;\n",
              "      cursor: pointer;\n",
              "      display: none;\n",
              "      fill: #1967D2;\n",
              "      height: 32px;\n",
              "      padding: 0 0 0 0;\n",
              "      width: 32px;\n",
              "    }\n",
              "\n",
              "    .colab-df-convert:hover {\n",
              "      background-color: #E2EBFA;\n",
              "      box-shadow: 0px 1px 2px rgba(60, 64, 67, 0.3), 0px 1px 3px 1px rgba(60, 64, 67, 0.15);\n",
              "      fill: #174EA6;\n",
              "    }\n",
              "\n",
              "    [theme=dark] .colab-df-convert {\n",
              "      background-color: #3B4455;\n",
              "      fill: #D2E3FC;\n",
              "    }\n",
              "\n",
              "    [theme=dark] .colab-df-convert:hover {\n",
              "      background-color: #434B5C;\n",
              "      box-shadow: 0px 1px 3px 1px rgba(0, 0, 0, 0.15);\n",
              "      filter: drop-shadow(0px 1px 2px rgba(0, 0, 0, 0.3));\n",
              "      fill: #FFFFFF;\n",
              "    }\n",
              "  </style>\n",
              "\n",
              "      <script>\n",
              "        const buttonEl =\n",
              "          document.querySelector('#df-b2b42d52-9807-4e21-a3f3-958568453755 button.colab-df-convert');\n",
              "        buttonEl.style.display =\n",
              "          google.colab.kernel.accessAllowed ? 'block' : 'none';\n",
              "\n",
              "        async function convertToInteractive(key) {\n",
              "          const element = document.querySelector('#df-b2b42d52-9807-4e21-a3f3-958568453755');\n",
              "          const dataTable =\n",
              "            await google.colab.kernel.invokeFunction('convertToInteractive',\n",
              "                                                     [key], {});\n",
              "          if (!dataTable) return;\n",
              "\n",
              "          const docLinkHtml = 'Like what you see? Visit the ' +\n",
              "            '<a target=\"_blank\" href=https://colab.research.google.com/notebooks/data_table.ipynb>data table notebook</a>'\n",
              "            + ' to learn more about interactive tables.';\n",
              "          element.innerHTML = '';\n",
              "          dataTable['output_type'] = 'display_data';\n",
              "          await google.colab.output.renderOutput(dataTable, element);\n",
              "          const docLink = document.createElement('div');\n",
              "          docLink.innerHTML = docLinkHtml;\n",
              "          element.appendChild(docLink);\n",
              "        }\n",
              "      </script>\n",
              "    </div>\n",
              "  </div>\n",
              "  "
            ]
          },
          "metadata": {},
          "execution_count": 107
        }
      ]
    },
    {
      "cell_type": "code",
      "source": [
        "#paper['PDF'].value_counts()"
      ],
      "metadata": {
        "id": "UW42ob00bmiE"
      },
      "execution_count": 108,
      "outputs": []
    },
    {
      "cell_type": "code",
      "source": [
        "paper.info"
      ],
      "metadata": {
        "colab": {
          "base_uri": "https://localhost:8080/"
        },
        "id": "oqoaKqUFbmkp",
        "outputId": "526ebef7-1f81-43f4-bd02-101ad8cf860d"
      },
      "execution_count": 109,
      "outputs": [
        {
          "output_type": "execute_result",
          "data": {
            "text/plain": [
              "<bound method DataFrame.info of                  PDF                                              TITLE\n",
              "0     2002.11028.pdf  An Empirical Study of Usages, Updates and Risk...\n",
              "1     2107.05368.pdf  Microsoft Word - 1-A Three Phase Semantic Web ...\n",
              "2     2011.00449.pdf  Improving Cyberbully Detection with User Inter...\n",
              "3     1911.04687.pdf         MCPA: Program Analysis as Machine Learning\n",
              "4      1110.6288.pdf  Reliability of Computational Experiments on Vi...\n",
              "...              ...                                                ...\n",
              "1698   1205.6229.pdf                                    janhunen09a.dvi\n",
              "1699  1812.09648.pdf  Artificial life, complex systems and cloud com...\n",
              "1700  1604.01429.pdf               Microsoft Word - amia2016_FINAL.docx\n",
              "1701   1112.1497.pdf                                Tiny Video Networks\n",
              "1702   0903.0467.pdf           arXiv:2110.05560v1  [cs.CY]  11 Oct 2021\n",
              "\n",
              "[1703 rows x 2 columns]>"
            ]
          },
          "metadata": {},
          "execution_count": 109
        }
      ]
    },
    {
      "cell_type": "code",
      "source": [
        "paper=paper[['PDF','TITLE']]"
      ],
      "metadata": {
        "id": "lOruI3kQbmnD"
      },
      "execution_count": 110,
      "outputs": []
    },
    {
      "cell_type": "code",
      "source": [
        "paper.head(5)"
      ],
      "metadata": {
        "colab": {
          "base_uri": "https://localhost:8080/",
          "height": 206
        },
        "id": "SGmmzH4mbmpg",
        "outputId": "c3745d08-06c2-496d-b264-e6426859d01a"
      },
      "execution_count": 111,
      "outputs": [
        {
          "output_type": "execute_result",
          "data": {
            "text/plain": [
              "              PDF                                              TITLE\n",
              "0  2002.11028.pdf  An Empirical Study of Usages, Updates and Risk...\n",
              "1  2107.05368.pdf  Microsoft Word - 1-A Three Phase Semantic Web ...\n",
              "2  2011.00449.pdf  Improving Cyberbully Detection with User Inter...\n",
              "3  1911.04687.pdf         MCPA: Program Analysis as Machine Learning\n",
              "4   1110.6288.pdf  Reliability of Computational Experiments on Vi..."
            ],
            "text/html": [
              "\n",
              "  <div id=\"df-ccbc9200-497c-4015-9f26-0a2628e1323c\">\n",
              "    <div class=\"colab-df-container\">\n",
              "      <div>\n",
              "<style scoped>\n",
              "    .dataframe tbody tr th:only-of-type {\n",
              "        vertical-align: middle;\n",
              "    }\n",
              "\n",
              "    .dataframe tbody tr th {\n",
              "        vertical-align: top;\n",
              "    }\n",
              "\n",
              "    .dataframe thead th {\n",
              "        text-align: right;\n",
              "    }\n",
              "</style>\n",
              "<table border=\"1\" class=\"dataframe\">\n",
              "  <thead>\n",
              "    <tr style=\"text-align: right;\">\n",
              "      <th></th>\n",
              "      <th>PDF</th>\n",
              "      <th>TITLE</th>\n",
              "    </tr>\n",
              "  </thead>\n",
              "  <tbody>\n",
              "    <tr>\n",
              "      <th>0</th>\n",
              "      <td>2002.11028.pdf</td>\n",
              "      <td>An Empirical Study of Usages, Updates and Risk...</td>\n",
              "    </tr>\n",
              "    <tr>\n",
              "      <th>1</th>\n",
              "      <td>2107.05368.pdf</td>\n",
              "      <td>Microsoft Word - 1-A Three Phase Semantic Web ...</td>\n",
              "    </tr>\n",
              "    <tr>\n",
              "      <th>2</th>\n",
              "      <td>2011.00449.pdf</td>\n",
              "      <td>Improving Cyberbully Detection with User Inter...</td>\n",
              "    </tr>\n",
              "    <tr>\n",
              "      <th>3</th>\n",
              "      <td>1911.04687.pdf</td>\n",
              "      <td>MCPA: Program Analysis as Machine Learning</td>\n",
              "    </tr>\n",
              "    <tr>\n",
              "      <th>4</th>\n",
              "      <td>1110.6288.pdf</td>\n",
              "      <td>Reliability of Computational Experiments on Vi...</td>\n",
              "    </tr>\n",
              "  </tbody>\n",
              "</table>\n",
              "</div>\n",
              "      <button class=\"colab-df-convert\" onclick=\"convertToInteractive('df-ccbc9200-497c-4015-9f26-0a2628e1323c')\"\n",
              "              title=\"Convert this dataframe to an interactive table.\"\n",
              "              style=\"display:none;\">\n",
              "        \n",
              "  <svg xmlns=\"http://www.w3.org/2000/svg\" height=\"24px\"viewBox=\"0 0 24 24\"\n",
              "       width=\"24px\">\n",
              "    <path d=\"M0 0h24v24H0V0z\" fill=\"none\"/>\n",
              "    <path d=\"M18.56 5.44l.94 2.06.94-2.06 2.06-.94-2.06-.94-.94-2.06-.94 2.06-2.06.94zm-11 1L8.5 8.5l.94-2.06 2.06-.94-2.06-.94L8.5 2.5l-.94 2.06-2.06.94zm10 10l.94 2.06.94-2.06 2.06-.94-2.06-.94-.94-2.06-.94 2.06-2.06.94z\"/><path d=\"M17.41 7.96l-1.37-1.37c-.4-.4-.92-.59-1.43-.59-.52 0-1.04.2-1.43.59L10.3 9.45l-7.72 7.72c-.78.78-.78 2.05 0 2.83L4 21.41c.39.39.9.59 1.41.59.51 0 1.02-.2 1.41-.59l7.78-7.78 2.81-2.81c.8-.78.8-2.07 0-2.86zM5.41 20L4 18.59l7.72-7.72 1.47 1.35L5.41 20z\"/>\n",
              "  </svg>\n",
              "      </button>\n",
              "      \n",
              "  <style>\n",
              "    .colab-df-container {\n",
              "      display:flex;\n",
              "      flex-wrap:wrap;\n",
              "      gap: 12px;\n",
              "    }\n",
              "\n",
              "    .colab-df-convert {\n",
              "      background-color: #E8F0FE;\n",
              "      border: none;\n",
              "      border-radius: 50%;\n",
              "      cursor: pointer;\n",
              "      display: none;\n",
              "      fill: #1967D2;\n",
              "      height: 32px;\n",
              "      padding: 0 0 0 0;\n",
              "      width: 32px;\n",
              "    }\n",
              "\n",
              "    .colab-df-convert:hover {\n",
              "      background-color: #E2EBFA;\n",
              "      box-shadow: 0px 1px 2px rgba(60, 64, 67, 0.3), 0px 1px 3px 1px rgba(60, 64, 67, 0.15);\n",
              "      fill: #174EA6;\n",
              "    }\n",
              "\n",
              "    [theme=dark] .colab-df-convert {\n",
              "      background-color: #3B4455;\n",
              "      fill: #D2E3FC;\n",
              "    }\n",
              "\n",
              "    [theme=dark] .colab-df-convert:hover {\n",
              "      background-color: #434B5C;\n",
              "      box-shadow: 0px 1px 3px 1px rgba(0, 0, 0, 0.15);\n",
              "      filter: drop-shadow(0px 1px 2px rgba(0, 0, 0, 0.3));\n",
              "      fill: #FFFFFF;\n",
              "    }\n",
              "  </style>\n",
              "\n",
              "      <script>\n",
              "        const buttonEl =\n",
              "          document.querySelector('#df-ccbc9200-497c-4015-9f26-0a2628e1323c button.colab-df-convert');\n",
              "        buttonEl.style.display =\n",
              "          google.colab.kernel.accessAllowed ? 'block' : 'none';\n",
              "\n",
              "        async function convertToInteractive(key) {\n",
              "          const element = document.querySelector('#df-ccbc9200-497c-4015-9f26-0a2628e1323c');\n",
              "          const dataTable =\n",
              "            await google.colab.kernel.invokeFunction('convertToInteractive',\n",
              "                                                     [key], {});\n",
              "          if (!dataTable) return;\n",
              "\n",
              "          const docLinkHtml = 'Like what you see? Visit the ' +\n",
              "            '<a target=\"_blank\" href=https://colab.research.google.com/notebooks/data_table.ipynb>data table notebook</a>'\n",
              "            + ' to learn more about interactive tables.';\n",
              "          element.innerHTML = '';\n",
              "          dataTable['output_type'] = 'display_data';\n",
              "          await google.colab.output.renderOutput(dataTable, element);\n",
              "          const docLink = document.createElement('div');\n",
              "          docLink.innerHTML = docLinkHtml;\n",
              "          element.appendChild(docLink);\n",
              "        }\n",
              "      </script>\n",
              "    </div>\n",
              "  </div>\n",
              "  "
            ]
          },
          "metadata": {},
          "execution_count": 111
        }
      ]
    },
    {
      "cell_type": "code",
      "source": [
        "paper.isnull().sum()"
      ],
      "metadata": {
        "colab": {
          "base_uri": "https://localhost:8080/"
        },
        "id": "Zq-Hhhmrbms-",
        "outputId": "1beefccb-5232-40d4-ef65-45864080bf22"
      },
      "execution_count": 112,
      "outputs": [
        {
          "output_type": "execute_result",
          "data": {
            "text/plain": [
              "PDF      0\n",
              "TITLE    0\n",
              "dtype: int64"
            ]
          },
          "metadata": {},
          "execution_count": 112
        }
      ]
    },
    {
      "cell_type": "code",
      "source": [
        "paper.duplicated().sum()\n",
        "paper['TITLE'] = paper['TITLE'].str.lower()\n",
        "paper['PDF'] = paper['PDF'].str.lower()"
      ],
      "metadata": {
        "id": "1Btrx6fBbmvX"
      },
      "execution_count": 113,
      "outputs": []
    },
    {
      "cell_type": "code",
      "source": [
        "print(paper)"
      ],
      "metadata": {
        "colab": {
          "base_uri": "https://localhost:8080/"
        },
        "id": "RIbl1cwRbmx8",
        "outputId": "f927673d-43ce-4790-efc6-418a72d4dea0"
      },
      "execution_count": 114,
      "outputs": [
        {
          "output_type": "stream",
          "name": "stdout",
          "text": [
            "                 PDF                                              TITLE\n",
            "0     2002.11028.pdf  an empirical study of usages, updates and risk...\n",
            "1     2107.05368.pdf  microsoft word - 1-a three phase semantic web ...\n",
            "2     2011.00449.pdf  improving cyberbully detection with user inter...\n",
            "3     1911.04687.pdf         mcpa: program analysis as machine learning\n",
            "4      1110.6288.pdf  reliability of computational experiments on vi...\n",
            "...              ...                                                ...\n",
            "1698   1205.6229.pdf                                    janhunen09a.dvi\n",
            "1699  1812.09648.pdf  artificial life, complex systems and cloud com...\n",
            "1700  1604.01429.pdf               microsoft word - amia2016_final.docx\n",
            "1701   1112.1497.pdf                                tiny video networks\n",
            "1702   0903.0467.pdf           arxiv:2110.05560v1  [cs.cy]  11 oct 2021\n",
            "\n",
            "[1703 rows x 2 columns]\n"
          ]
        }
      ]
    },
    {
      "cell_type": "code",
      "source": [
        "paper= paper[paper['TITLE'].notnull()]\n",
        "import ast\n",
        "\n",
        "def convert(text):\n",
        "    L = []\n",
        "    counter = 0\n",
        "    s=text.split(sep=None, maxsplit=-1)\n",
        "    print(s)\n",
        "    for i in s:\n",
        "            #print(\"ranit\")\n",
        "         #if counter < 3:\n",
        "         if i[-1]==',' or i[-1]==';' or i[-1]=='.':\n",
        "            i=i[:-1]\n",
        "         \n",
        "         L.append(s)\n",
        "         #counter+=1\n",
        "    return L \n",
        "paper['TITLE'] = paper['TITLE'].apply(convert) "
      ],
      "metadata": {
        "id": "lok4QL9_bm0R"
      },
      "execution_count": null,
      "outputs": []
    },
    {
      "cell_type": "code",
      "source": [
        "paper.TITLE#head(5)"
      ],
      "metadata": {
        "colab": {
          "base_uri": "https://localhost:8080/"
        },
        "id": "_RXNWx_mbm4Q",
        "outputId": "6b245901-4034-4e4f-8c10-3758a2acb420"
      },
      "execution_count": 116,
      "outputs": [
        {
          "output_type": "execute_result",
          "data": {
            "text/plain": [
              "0       [[an, empirical, study, of, usages,, updates, ...\n",
              "1       [[microsoft, word, -, 1-a, three, phase, seman...\n",
              "2       [[improving, cyberbully, detection, with, user...\n",
              "3       [[mcpa:, program, analysis, as, machine, learn...\n",
              "4       [[reliability, of, computational, experiments,...\n",
              "                              ...                        \n",
              "1698                                  [[janhunen09a.dvi]]\n",
              "1699    [[artificial, life,, complex, systems, and, cl...\n",
              "1700    [[microsoft, word, -, amia2016_final.docx], [m...\n",
              "1701    [[tiny, video, networks], [tiny, video, networ...\n",
              "1702    [[arxiv:2110.05560v1, [cs.cy], 11, oct, 2021],...\n",
              "Name: TITLE, Length: 1703, dtype: object"
            ]
          },
          "metadata": {},
          "execution_count": 116
        }
      ]
    },
    {
      "cell_type": "code",
      "source": [
        "!python --version"
      ],
      "metadata": {
        "colab": {
          "base_uri": "https://localhost:8080/"
        },
        "id": "BdTpwShtbm7y",
        "outputId": "fd226e3e-ef8f-449c-d803-5a9e6f75125d"
      },
      "execution_count": 117,
      "outputs": [
        {
          "output_type": "stream",
          "name": "stdout",
          "text": [
            "Python 3.9.16\n"
          ]
        }
      ]
    },
    {
      "cell_type": "code",
      "source": [
        "new_paper=paper"
      ],
      "metadata": {
        "id": "_dQlXW79ee5r"
      },
      "execution_count": 118,
      "outputs": []
    },
    {
      "cell_type": "code",
      "source": [
        " for index,row in new_paper.iterrows():\n",
        "    print (index)"
      ],
      "metadata": {
        "id": "RfB8IUYaeQ2T"
      },
      "execution_count": null,
      "outputs": []
    },
    {
      "cell_type": "code",
      "source": [
        "for index,row in new_paper.iterrows():\n",
        "    L1=[]\n",
        "    for i in new_paper.loc[index]['TITLE']:\n",
        "        for j in i:\n",
        "           L1.append(j)\n",
        "    new_paper.loc[index]['TITLE']=L1   "
      ],
      "metadata": {
        "id": "pojtsNKNeQ5D"
      },
      "execution_count": 120,
      "outputs": []
    },
    {
      "cell_type": "code",
      "source": [
        "print(new_paper.head(10))"
      ],
      "metadata": {
        "colab": {
          "base_uri": "https://localhost:8080/"
        },
        "id": "M_1nKuK0eQ7y",
        "outputId": "6fb7b64b-dfb4-464a-8195-8f511d541fc4"
      },
      "execution_count": 121,
      "outputs": [
        {
          "output_type": "stream",
          "name": "stdout",
          "text": [
            "              PDF                                              TITLE\n",
            "0  2002.11028.pdf  [an, empirical, study, of, usages,, updates, a...\n",
            "1  2107.05368.pdf  [microsoft, word, -, 1-a, three, phase, semant...\n",
            "2  2011.00449.pdf  [improving, cyberbully, detection, with, user,...\n",
            "3  1911.04687.pdf  [mcpa:, program, analysis, as, machine, learni...\n",
            "4   1110.6288.pdf  [reliability, of, computational, experiments, ...\n",
            "5   1105.0251.pdf  [microsoft, word, -, 9.doc, microsoft, word, -...\n",
            "6  1608.03367.pdf  [microsoft, word, -, low-earth, orbit, determi...\n",
            "7  1810.08167.pdf  [expressing, robot, incapability, expressing, ...\n",
            "8  2103.10185.pdf  [about, subordinated, generalizations, of, 3, ...\n",
            "9   1408.0131.pdf  [a, polling, model, with, reneging, at, pollin...\n"
          ]
        }
      ]
    },
    {
      "cell_type": "code",
      "source": [
        "s=''\n",
        "for index,rows in new_paper.iterrows():\n",
        "  new_paper.loc[index]['TITLE']=' '.join(new_paper.loc[index,'TITLE'])"
      ],
      "metadata": {
        "id": "dfyf9VfweQ-O"
      },
      "execution_count": 122,
      "outputs": []
    },
    {
      "cell_type": "code",
      "source": [
        "print(new_paper['TITLE'].head(10))"
      ],
      "metadata": {
        "colab": {
          "base_uri": "https://localhost:8080/"
        },
        "id": "lPwMOjlgfHBB",
        "outputId": "4a507cc2-9f71-453a-9012-c6ceac441bb6"
      },
      "execution_count": 123,
      "outputs": [
        {
          "output_type": "stream",
          "name": "stdout",
          "text": [
            "0    an empirical study of usages, updates and risk...\n",
            "1    microsoft word - 1-a three phase semantic web ...\n",
            "2    improving cyberbully detection with user inter...\n",
            "3    mcpa: program analysis as machine learning mcp...\n",
            "4    reliability of computational experiments on vi...\n",
            "5    microsoft word - 9.doc microsoft word - 9.doc ...\n",
            "6    microsoft word - low-earth orbit determination...\n",
            "7    expressing robot incapability expressing robot...\n",
            "8    about subordinated generalizations of 3 classi...\n",
            "9    a polling model with reneging at polling insta...\n",
            "Name: TITLE, dtype: object\n"
          ]
        }
      ]
    },
    {
      "cell_type": "code",
      "source": [
        "import nltk\n",
        "from nltk.stem.porter import PorterStemmer\n",
        "ps=PorterStemmer()\n"
      ],
      "metadata": {
        "id": "uzQsPEcZeRAe"
      },
      "execution_count": 124,
      "outputs": []
    },
    {
      "cell_type": "code",
      "source": [
        "def stem(text):\n",
        "   y=[]\n",
        "   for i in text.split():\n",
        "       y.append(ps.stem(i))\n",
        "\n",
        "   return \" \".join(y)"
      ],
      "metadata": {
        "id": "yC7PzdgDeREC"
      },
      "execution_count": 125,
      "outputs": []
    },
    {
      "cell_type": "code",
      "source": [
        "new_paper['TITLE']=new_paper['TITLE'].apply(stem)"
      ],
      "metadata": {
        "id": "bYFtCK_IfSVB"
      },
      "execution_count": 126,
      "outputs": []
    },
    {
      "cell_type": "code",
      "source": [
        "from sklearn.feature_extraction.text import CountVectorizer\n",
        "cv=CountVectorizer(max_features=5000,stop_words='english')"
      ],
      "metadata": {
        "id": "HnSJcLudfcOJ"
      },
      "execution_count": 127,
      "outputs": []
    },
    {
      "cell_type": "code",
      "source": [
        "vectors=cv.fit_transform(new_paper['TITLE']).toarray()"
      ],
      "metadata": {
        "id": "m6OyerOJfceR"
      },
      "execution_count": 128,
      "outputs": []
    },
    {
      "cell_type": "code",
      "source": [
        "vectors"
      ],
      "metadata": {
        "colab": {
          "base_uri": "https://localhost:8080/"
        },
        "id": "njLc9W2afchy",
        "outputId": "4b8a15c5-b35b-40b0-8b0d-9ad6750e4116"
      },
      "execution_count": 129,
      "outputs": [
        {
          "output_type": "execute_result",
          "data": {
            "text/plain": [
              "array([[0, 0, 0, ..., 0, 0, 0],\n",
              "       [0, 0, 0, ..., 0, 0, 0],\n",
              "       [0, 0, 0, ..., 0, 0, 0],\n",
              "       ...,\n",
              "       [0, 0, 0, ..., 0, 0, 0],\n",
              "       [0, 0, 0, ..., 0, 0, 0],\n",
              "       [0, 0, 0, ..., 0, 0, 0]])"
            ]
          },
          "metadata": {},
          "execution_count": 129
        }
      ]
    },
    {
      "cell_type": "code",
      "source": [
        "from sklearn.metrics.pairwise import cosine_similarity\n",
        "similarity=cosine_similarity(vectors)"
      ],
      "metadata": {
        "id": "vJSlDb_ufSXn"
      },
      "execution_count": 130,
      "outputs": []
    },
    {
      "cell_type": "code",
      "source": [
        " "
      ],
      "metadata": {
        "id": "wz754wYXfSaF"
      },
      "execution_count": 130,
      "outputs": []
    },
    {
      "cell_type": "code",
      "source": [
        "new_paper.head(6)"
      ],
      "metadata": {
        "colab": {
          "base_uri": "https://localhost:8080/",
          "height": 237
        },
        "id": "_1KZJMhxfSdg",
        "outputId": "3e569dbc-284f-4227-a7e4-a8d98ab20a13"
      },
      "execution_count": 131,
      "outputs": [
        {
          "output_type": "execute_result",
          "data": {
            "text/plain": [
              "              PDF                                              TITLE\n",
              "0  2002.11028.pdf  an empir studi of usages, updat and risk of th...\n",
              "1  2107.05368.pdf  microsoft word - 1-a three phase semant web ma...\n",
              "2  2011.00449.pdf  improv cyberbulli detect with user interact im...\n",
              "3  1911.04687.pdf  mcpa: program analysi as machin learn mcpa: pr...\n",
              "4   1110.6288.pdf  reliabl of comput experi on virtualis hardwar ...\n",
              "5   1105.0251.pdf  microsoft word - 9.doc microsoft word - 9.doc ..."
            ],
            "text/html": [
              "\n",
              "  <div id=\"df-2e57aeab-97f0-4b8c-9916-c3399dd700aa\">\n",
              "    <div class=\"colab-df-container\">\n",
              "      <div>\n",
              "<style scoped>\n",
              "    .dataframe tbody tr th:only-of-type {\n",
              "        vertical-align: middle;\n",
              "    }\n",
              "\n",
              "    .dataframe tbody tr th {\n",
              "        vertical-align: top;\n",
              "    }\n",
              "\n",
              "    .dataframe thead th {\n",
              "        text-align: right;\n",
              "    }\n",
              "</style>\n",
              "<table border=\"1\" class=\"dataframe\">\n",
              "  <thead>\n",
              "    <tr style=\"text-align: right;\">\n",
              "      <th></th>\n",
              "      <th>PDF</th>\n",
              "      <th>TITLE</th>\n",
              "    </tr>\n",
              "  </thead>\n",
              "  <tbody>\n",
              "    <tr>\n",
              "      <th>0</th>\n",
              "      <td>2002.11028.pdf</td>\n",
              "      <td>an empir studi of usages, updat and risk of th...</td>\n",
              "    </tr>\n",
              "    <tr>\n",
              "      <th>1</th>\n",
              "      <td>2107.05368.pdf</td>\n",
              "      <td>microsoft word - 1-a three phase semant web ma...</td>\n",
              "    </tr>\n",
              "    <tr>\n",
              "      <th>2</th>\n",
              "      <td>2011.00449.pdf</td>\n",
              "      <td>improv cyberbulli detect with user interact im...</td>\n",
              "    </tr>\n",
              "    <tr>\n",
              "      <th>3</th>\n",
              "      <td>1911.04687.pdf</td>\n",
              "      <td>mcpa: program analysi as machin learn mcpa: pr...</td>\n",
              "    </tr>\n",
              "    <tr>\n",
              "      <th>4</th>\n",
              "      <td>1110.6288.pdf</td>\n",
              "      <td>reliabl of comput experi on virtualis hardwar ...</td>\n",
              "    </tr>\n",
              "    <tr>\n",
              "      <th>5</th>\n",
              "      <td>1105.0251.pdf</td>\n",
              "      <td>microsoft word - 9.doc microsoft word - 9.doc ...</td>\n",
              "    </tr>\n",
              "  </tbody>\n",
              "</table>\n",
              "</div>\n",
              "      <button class=\"colab-df-convert\" onclick=\"convertToInteractive('df-2e57aeab-97f0-4b8c-9916-c3399dd700aa')\"\n",
              "              title=\"Convert this dataframe to an interactive table.\"\n",
              "              style=\"display:none;\">\n",
              "        \n",
              "  <svg xmlns=\"http://www.w3.org/2000/svg\" height=\"24px\"viewBox=\"0 0 24 24\"\n",
              "       width=\"24px\">\n",
              "    <path d=\"M0 0h24v24H0V0z\" fill=\"none\"/>\n",
              "    <path d=\"M18.56 5.44l.94 2.06.94-2.06 2.06-.94-2.06-.94-.94-2.06-.94 2.06-2.06.94zm-11 1L8.5 8.5l.94-2.06 2.06-.94-2.06-.94L8.5 2.5l-.94 2.06-2.06.94zm10 10l.94 2.06.94-2.06 2.06-.94-2.06-.94-.94-2.06-.94 2.06-2.06.94z\"/><path d=\"M17.41 7.96l-1.37-1.37c-.4-.4-.92-.59-1.43-.59-.52 0-1.04.2-1.43.59L10.3 9.45l-7.72 7.72c-.78.78-.78 2.05 0 2.83L4 21.41c.39.39.9.59 1.41.59.51 0 1.02-.2 1.41-.59l7.78-7.78 2.81-2.81c.8-.78.8-2.07 0-2.86zM5.41 20L4 18.59l7.72-7.72 1.47 1.35L5.41 20z\"/>\n",
              "  </svg>\n",
              "      </button>\n",
              "      \n",
              "  <style>\n",
              "    .colab-df-container {\n",
              "      display:flex;\n",
              "      flex-wrap:wrap;\n",
              "      gap: 12px;\n",
              "    }\n",
              "\n",
              "    .colab-df-convert {\n",
              "      background-color: #E8F0FE;\n",
              "      border: none;\n",
              "      border-radius: 50%;\n",
              "      cursor: pointer;\n",
              "      display: none;\n",
              "      fill: #1967D2;\n",
              "      height: 32px;\n",
              "      padding: 0 0 0 0;\n",
              "      width: 32px;\n",
              "    }\n",
              "\n",
              "    .colab-df-convert:hover {\n",
              "      background-color: #E2EBFA;\n",
              "      box-shadow: 0px 1px 2px rgba(60, 64, 67, 0.3), 0px 1px 3px 1px rgba(60, 64, 67, 0.15);\n",
              "      fill: #174EA6;\n",
              "    }\n",
              "\n",
              "    [theme=dark] .colab-df-convert {\n",
              "      background-color: #3B4455;\n",
              "      fill: #D2E3FC;\n",
              "    }\n",
              "\n",
              "    [theme=dark] .colab-df-convert:hover {\n",
              "      background-color: #434B5C;\n",
              "      box-shadow: 0px 1px 3px 1px rgba(0, 0, 0, 0.15);\n",
              "      filter: drop-shadow(0px 1px 2px rgba(0, 0, 0, 0.3));\n",
              "      fill: #FFFFFF;\n",
              "    }\n",
              "  </style>\n",
              "\n",
              "      <script>\n",
              "        const buttonEl =\n",
              "          document.querySelector('#df-2e57aeab-97f0-4b8c-9916-c3399dd700aa button.colab-df-convert');\n",
              "        buttonEl.style.display =\n",
              "          google.colab.kernel.accessAllowed ? 'block' : 'none';\n",
              "\n",
              "        async function convertToInteractive(key) {\n",
              "          const element = document.querySelector('#df-2e57aeab-97f0-4b8c-9916-c3399dd700aa');\n",
              "          const dataTable =\n",
              "            await google.colab.kernel.invokeFunction('convertToInteractive',\n",
              "                                                     [key], {});\n",
              "          if (!dataTable) return;\n",
              "\n",
              "          const docLinkHtml = 'Like what you see? Visit the ' +\n",
              "            '<a target=\"_blank\" href=https://colab.research.google.com/notebooks/data_table.ipynb>data table notebook</a>'\n",
              "            + ' to learn more about interactive tables.';\n",
              "          element.innerHTML = '';\n",
              "          dataTable['output_type'] = 'display_data';\n",
              "          await google.colab.output.renderOutput(dataTable, element);\n",
              "          const docLink = document.createElement('div');\n",
              "          docLink.innerHTML = docLinkHtml;\n",
              "          element.appendChild(docLink);\n",
              "        }\n",
              "      </script>\n",
              "    </div>\n",
              "  </div>\n",
              "  "
            ]
          },
          "metadata": {},
          "execution_count": 131
        }
      ]
    },
    {
      "cell_type": "code",
      "source": [
        " \n",
        "def recommend(paper):\n",
        "    paper_index = new_paper[new_paper['TITLE'] == paper].index\n",
        "    if len(paper_index) == 0:\n",
        "        print(\"Paper not found in database\")\n",
        "        return\n",
        "    distances = similarity[paper_index[0]]\n",
        "    paper_list = sorted(list(enumerate(distances)), reverse=True, key=lambda x: x[1])[1:6]\n",
        "    print(\"Top 5 papers similar to\", paper, \":\\n\")\n",
        "    k=1\n",
        "    for i in paper_list:\n",
        "        print(k)\n",
        "        print(\"************TITLE*****************\")\n",
        "        k=k+1\n",
        "        print(new_paper.iloc[i[0]].TITLE)\n",
        "         "
      ],
      "metadata": {
        "id": "EonlpcbSgPr4"
      },
      "execution_count": 132,
      "outputs": []
    },
    {
      "cell_type": "code",
      "source": [
        "query='Article-Gualandi-Pareschi-Peroni'"
      ],
      "metadata": {
        "id": "2sG5EatladYq"
      },
      "execution_count": 153,
      "outputs": []
    },
    {
      "cell_type": "code",
      "source": [
        "#pip install nltk\n",
        "import nltk\n",
        "nltk.download('punkt')"
      ],
      "metadata": {
        "colab": {
          "base_uri": "https://localhost:8080/"
        },
        "id": "67ae9G5KbMVT",
        "outputId": "75928f1d-aa88-4c56-a96f-a1fb449edcab"
      },
      "execution_count": 134,
      "outputs": [
        {
          "output_type": "stream",
          "name": "stderr",
          "text": [
            "[nltk_data] Downloading package punkt to /root/nltk_data...\n",
            "[nltk_data]   Package punkt is already up-to-date!\n"
          ]
        },
        {
          "output_type": "execute_result",
          "data": {
            "text/plain": [
              "True"
            ]
          },
          "metadata": {},
          "execution_count": 134
        }
      ]
    },
    {
      "cell_type": "code",
      "source": [
        "import nltk\n",
        "nltk.download('stopwords')"
      ],
      "metadata": {
        "colab": {
          "base_uri": "https://localhost:8080/"
        },
        "id": "ZWhy5U51d1II",
        "outputId": "06cba774-8e44-4199-8366-2e4f840c5f02"
      },
      "execution_count": 135,
      "outputs": [
        {
          "output_type": "stream",
          "name": "stderr",
          "text": [
            "[nltk_data] Downloading package stopwords to /root/nltk_data...\n",
            "[nltk_data]   Package stopwords is already up-to-date!\n"
          ]
        },
        {
          "output_type": "execute_result",
          "data": {
            "text/plain": [
              "True"
            ]
          },
          "metadata": {},
          "execution_count": 135
        }
      ]
    },
    {
      "cell_type": "code",
      "source": [
        "import nltk\n",
        "from nltk.stem import SnowballStemmer\n",
        "from nltk.corpus import stopwords\n",
        "# Tokenize query into individual words\n",
        "words = nltk.word_tokenize(query)\n",
        "stemmer = SnowballStemmer(\"english\")\n",
        "# Stem each word in the query\n",
        "stemmed_words = [stemmer.stem(word) for word in words]\n",
        "\n",
        "# Remove stopwords from stemmed words\n",
        "stopwords = set(stopwords.words(\"english\"))\n",
        "filtered_words = [word for word in stemmed_words if word not in stopwords]\n",
        "\n",
        "# Join filtered words back into a string\n",
        "filtered_query = \" \".join(filtered_words)\n",
        "\n",
        "# Print filtered query\n",
        "print(filtered_query)"
      ],
      "metadata": {
        "colab": {
          "base_uri": "https://localhost:8080/"
        },
        "id": "d6r6CJ55gPuP",
        "outputId": "5ede7405-e1c8-4d7d-b57e-ee3c7845cc7c"
      },
      "execution_count": 154,
      "outputs": [
        {
          "output_type": "stream",
          "name": "stdout",
          "text": [
            "article-gualandi-pareschi-peroni\n"
          ]
        }
      ]
    },
    {
      "cell_type": "code",
      "source": [
        "# Print filtered query\n",
        "# Print filtered query\n",
        "# Print filtered query\n",
        "recommend('article-gualandi-pareschi-peroni')"
      ],
      "metadata": {
        "colab": {
          "base_uri": "https://localhost:8080/"
        },
        "id": "ily2CXogZXZ5",
        "outputId": "3e3479aa-a85d-4ab0-e077-19398453e6e1"
      },
      "execution_count": 155,
      "outputs": [
        {
          "output_type": "stream",
          "name": "stdout",
          "text": [
            "Top 5 papers similar to article-gualandi-pareschi-peroni :\n",
            "\n",
            "1\n",
            "************TITLE*****************\n",
            "../article/zscore_edges_pvalue.ep\n",
            "2\n",
            "************TITLE*****************\n",
            "an empir studi of usages, updat and risk of third-parti librari in java project an empir studi of usages, updat and risk of third-parti librari in java project an empir studi of usages, updat and risk of third-parti librari in java project an empir studi of usages, updat and risk of third-parti librari in java project an empir studi of usages, updat and risk of third-parti librari in java project an empir studi of usages, updat and risk of third-parti librari in java project an empir studi of usages, updat and risk of third-parti librari in java project an empir studi of usages, updat and risk of third-parti librari in java project an empir studi of usages, updat and risk of third-parti librari in java project an empir studi of usages, updat and risk of third-parti librari in java project an empir studi of usages, updat and risk of third-parti librari in java project an empir studi of usages, updat and risk of third-parti librari in java project an empir studi of usages, updat and risk of third-parti librari in java project an empir studi of usages, updat and risk of third-parti librari in java project\n",
            "3\n",
            "************TITLE*****************\n",
            "microsoft word - 1-a three phase semant web matchmak microsoft word - 1-a three phase semant web matchmak microsoft word - 1-a three phase semant web matchmak microsoft word - 1-a three phase semant web matchmak microsoft word - 1-a three phase semant web matchmak microsoft word - 1-a three phase semant web matchmak microsoft word - 1-a three phase semant web matchmak microsoft word - 1-a three phase semant web matchmak microsoft word - 1-a three phase semant web matchmak\n",
            "4\n",
            "************TITLE*****************\n",
            "improv cyberbulli detect with user interact improv cyberbulli detect with user interact improv cyberbulli detect with user interact improv cyberbulli detect with user interact improv cyberbulli detect with user interact improv cyberbulli detect with user interact\n",
            "5\n",
            "************TITLE*****************\n",
            "mcpa: program analysi as machin learn mcpa: program analysi as machin learn mcpa: program analysi as machin learn mcpa: program analysi as machin learn mcpa: program analysi as machin learn mcpa: program analysi as machin learn\n"
          ]
        }
      ]
    },
    {
      "cell_type": "code",
      "source": [],
      "metadata": {
        "id": "Wg4Osm23ZXdK"
      },
      "execution_count": 137,
      "outputs": []
    },
    {
      "cell_type": "code",
      "source": [
        "from sklearn.feature_extraction.text import TfidfVectorizer\n",
        "vectorizer = TfidfVectorizer(stop_words='english')"
      ],
      "metadata": {
        "id": "ytZP8Jsyr3xB"
      },
      "execution_count": 138,
      "outputs": []
    },
    {
      "cell_type": "code",
      "source": [
        "# # Take user input\n",
        "# user_title = input(\"Enter a paper title: \")\n",
        "# # Vectorize the user input\n",
        "# user_vector = vectorizer.transform([user_title]) "
      ],
      "metadata": {
        "id": "GnkW_PzigPyE"
      },
      "execution_count": 139,
      "outputs": []
    },
    {
      "cell_type": "code",
      "source": [
        " \n",
        "from sklearn.metrics.pairwise import cosine_similarity"
      ],
      "metadata": {
        "id": "GN0DWxCikKOL"
      },
      "execution_count": 140,
      "outputs": []
    },
    {
      "cell_type": "code",
      "source": [
        "\n",
        "# Define the vectorizer to convert titles to vectors\n",
        " "
      ],
      "metadata": {
        "id": "l4J9N-t-kKQv"
      },
      "execution_count": 141,
      "outputs": []
    },
    {
      "cell_type": "code",
      "source": [
        "# Vectorize the titles\n",
        "title_vectors = vectorizer.fit_transform(new_paper['TITLE'].values.astype('U'))"
      ],
      "metadata": {
        "id": "ZIH7fgdskKTS"
      },
      "execution_count": 142,
      "outputs": []
    },
    {
      "cell_type": "code",
      "source": [
        " "
      ],
      "metadata": {
        "id": "L1HXhosBnXLg"
      },
      "execution_count": 142,
      "outputs": []
    },
    {
      "cell_type": "code",
      "source": [],
      "metadata": {
        "id": "q7aHZJGwnXN_"
      },
      "execution_count": 142,
      "outputs": []
    },
    {
      "cell_type": "code",
      "source": [],
      "metadata": {
        "id": "hyqOGgP9nXRc"
      },
      "execution_count": 142,
      "outputs": []
    },
    {
      "cell_type": "code",
      "source": [
        "# Take user input\n",
        "user_title = input(\"Enter a paper title: \")\n",
        "# Vectorize the user input\n",
        "user_vector = vectorizer.transform([user_title])"
      ],
      "metadata": {
        "colab": {
          "base_uri": "https://localhost:8080/"
        },
        "id": "b-kZQivikKVq",
        "outputId": "91866872-f06b-46ea-cb65-701b32c597b8"
      },
      "execution_count": 143,
      "outputs": [
        {
          "name": "stdout",
          "output_type": "stream",
          "text": [
            "Enter a paper title: improv cyberbulli detect user interact\n"
          ]
        }
      ]
    },
    {
      "cell_type": "code",
      "source": [
        "# Compute the cosine similarity between the user input and the titles\n",
        "cosine_similarities = cosine_similarity(user_vector, title_vectors).flatten()\n",
        "# Sort the similarities in descending order\n",
        "similarity_scores = pd.Series(cosine_similarities, index=new_paper['TITLE']).sort_values(ascending=False)\n"
      ],
      "metadata": {
        "id": "fqyhK2czkKbw"
      },
      "execution_count": 144,
      "outputs": []
    },
    {
      "cell_type": "code",
      "source": [
        "# Recommend the top 5 PDF names with the highest similarity scores\n",
        "recommended_pdfs = similarity_scores.head(5).index.tolist()"
      ],
      "metadata": {
        "id": "ozUbfvnRkKgS"
      },
      "execution_count": 145,
      "outputs": []
    },
    {
      "cell_type": "code",
      "source": [
        "# Print the recommended PDF names in a more readable format\n",
        "if recommended_pdfs:\n",
        "    print(\"**************************************************RECOMMENDED PDFS NAMES*************************************************************\")\n",
        "    for i, pdf_name in enumerate(recommended_pdfs):\n",
        "        print(f\"{i+1}. {pdf_name}\")\n",
        "        print('\\n')\n",
        "        print(\"--------------------------------------------------------------------------------------------------------------------------\")\n",
        "else:\n",
        "    print(\"No matching PDF found.\")"
      ],
      "metadata": {
        "colab": {
          "base_uri": "https://localhost:8080/"
        },
        "id": "nlx_Y5VMkKj4",
        "outputId": "f827c101-a798-4dc8-e1f9-e34ad1518e98"
      },
      "execution_count": 146,
      "outputs": [
        {
          "output_type": "stream",
          "name": "stdout",
          "text": [
            "**************************************************RECOMMENDED PDFS NAMES*************************************************************\n",
            "1. improv cyberbulli detect with user interact improv cyberbulli detect with user interact improv cyberbulli detect with user interact improv cyberbulli detect with user interact improv cyberbulli detect with user interact improv cyberbulli detect with user interact\n",
            "\n",
            "\n",
            "--------------------------------------------------------------------------------------------------------------------------\n",
            "2. leverag histor interact data for improv convers recommend system leverag histor interact data for improv convers recommend system leverag histor interact data for improv convers recommend system leverag histor interact data for improv convers recommend system leverag histor interact data for improv convers recommend system leverag histor interact data for improv convers recommend system leverag histor interact data for improv convers recommend system leverag histor interact data for improv convers recommend system leverag histor interact data for improv convers recommend system\n",
            "\n",
            "\n",
            "--------------------------------------------------------------------------------------------------------------------------\n",
            "3. adversari attack and detect on reinforc learning-bas interact recommend system adversari attack and detect on reinforc learning-bas interact recommend system adversari attack and detect on reinforc learning-bas interact recommend system adversari attack and detect on reinforc learning-bas interact recommend system adversari attack and detect on reinforc learning-bas interact recommend system adversari attack and detect on reinforc learning-bas interact recommend system adversari attack and detect on reinforc learning-bas interact recommend system adversari attack and detect on reinforc learning-bas interact recommend system adversari attack and detect on reinforc learning-bas interact recommend system adversari attack and detect on reinforc learning-bas interact recommend system\n",
            "\n",
            "\n",
            "--------------------------------------------------------------------------------------------------------------------------\n",
            "4. an improv algorithm for hypot(a,b) an improv algorithm for hypot(a,b) an improv algorithm for hypot(a,b) an improv algorithm for hypot(a,b) an improv algorithm for hypot(a,b)\n",
            "\n",
            "\n",
            "--------------------------------------------------------------------------------------------------------------------------\n",
            "5. noh-nms: improv pedestrian detect by nearbi object hallucin noh-nms: improv pedestrian detect by nearbi object hallucin noh-nms: improv pedestrian detect by nearbi object hallucin noh-nms: improv pedestrian detect by nearbi object hallucin noh-nms: improv pedestrian detect by nearbi object hallucin noh-nms: improv pedestrian detect by nearbi object hallucin noh-nms: improv pedestrian detect by nearbi object hallucin noh-nms: improv pedestrian detect by nearbi object hallucin\n",
            "\n",
            "\n",
            "--------------------------------------------------------------------------------------------------------------------------\n"
          ]
        }
      ]
    },
    {
      "cell_type": "code",
      "source": [
        "\n",
        "\n",
        "  \n",
        " "
      ],
      "metadata": {
        "id": "vmn6QFR9gP0d"
      },
      "execution_count": 146,
      "outputs": []
    },
    {
      "cell_type": "code",
      "source": [],
      "metadata": {
        "id": "u8zwH3HqgP3u"
      },
      "execution_count": 146,
      "outputs": []
    },
    {
      "cell_type": "code",
      "source": [],
      "metadata": {
        "id": "RbW78f5egP5w"
      },
      "execution_count": 146,
      "outputs": []
    },
    {
      "cell_type": "code",
      "source": [],
      "metadata": {
        "id": "gylqXkn2gP9S"
      },
      "execution_count": 146,
      "outputs": []
    }
  ]
}