{
  "nbformat": 4,
  "nbformat_minor": 0,
  "metadata": {
    "colab": {
      "provenance": []
    },
    "kernelspec": {
      "name": "python3",
      "display_name": "Python 3"
    },
    "language_info": {
      "name": "python"
    }
  },
  "cells": [
    {
      "cell_type": "code",
      "source": [
        "!pip install PyPDF2"
      ],
      "metadata": {
        "colab": {
          "base_uri": "https://localhost:8080/"
        },
        "id": "NNbRqdfdCnUx",
        "outputId": "ac7789f4-5a45-4048-9376-3bb5be5b7b4c"
      },
      "execution_count": null,
      "outputs": [
        {
          "output_type": "stream",
          "name": "stdout",
          "text": [
            "Looking in indexes: https://pypi.org/simple, https://us-python.pkg.dev/colab-wheels/public/simple/\n",
            "Collecting PyPDF2\n",
            "  Downloading pypdf2-3.0.1-py3-none-any.whl (232 kB)\n",
            "\u001b[2K     \u001b[90m━━━━━━━━━━━━━━━━━━━━━━━━━━━━━━━━━━━━━━━\u001b[0m \u001b[32m232.6/232.6 KB\u001b[0m \u001b[31m7.0 MB/s\u001b[0m eta \u001b[36m0:00:00\u001b[0m\n",
            "\u001b[?25hRequirement already satisfied: typing_extensions>=3.10.0.0 in /usr/local/lib/python3.9/dist-packages (from PyPDF2) (4.5.0)\n",
            "Installing collected packages: PyPDF2\n",
            "Successfully installed PyPDF2-3.0.1\n"
          ]
        }
      ]
    },
    {
      "cell_type": "code",
      "source": [
        "import os\n",
        "from PyPDF2 import PdfReader\n",
        "import re\n",
        "import pandas as pd\n",
        "import warnings\n",
        "warnings.filterwarnings('ignore')"
      ],
      "metadata": {
        "id": "LWbRF29YFKG2"
      },
      "execution_count": null,
      "outputs": []
    },
    {
      "cell_type": "code",
      "source": [
        "pdf_path = '/content/drive/MyDrive/ir_demo_data/'"
      ],
      "metadata": {
        "id": "N8uZzTbQFsuM"
      },
      "execution_count": null,
      "outputs": []
    },
    {
      "cell_type": "code",
      "source": [
        "os.chdir(pdf_path)\n"
      ],
      "metadata": {
        "id": "UVb3V8KQF4EG"
      },
      "execution_count": null,
      "outputs": []
    },
    {
      "cell_type": "code",
      "source": [
        "final = []\n",
        "files = os.listdir()\n",
        "\n",
        "for file in files:\n",
        "  lst = []\n",
        "  \n",
        "\n",
        "  word1 = \"Abstract\"\n",
        "  word2 = \"Keyword\"\n",
        "  word3 = \"Introduction\"\n",
        "  \n",
        " \n",
        "  print(file)\n",
        "  reader = PdfReader(file)\n",
        "\n",
        "\n",
        "  page = reader.pages[0]\n",
        "\n",
        "\n",
        "  text = page.extract_text()\n",
        "  \n",
        "  idx1 = text.find(word1)\n",
        "  idx2 = text.find(word2)\n",
        "  idx3 = text.find(word3)\n",
        "\n",
        "  if idx1 ==-1:\n",
        "    word1 = word1.upper()\n",
        "    idx1 = text.find(word1)\n",
        "  if idx2 ==-1:\n",
        "    word2 = word2.upper()\n",
        "    idx2 = text.find(word2)\n",
        "  if idx3 ==-1:\n",
        "    word3 = word3.upper()\n",
        "    idx3 = text.find(word3)\n",
        "\n",
        "  res1 = text[idx1 + len(word1) + 1: idx2]\n",
        "  res2 = text[idx1 + len(word1) + 1: idx3]\n",
        "  \n",
        "  \n",
        "  lst.append(file)\n",
        "  if len(res1)<len(res2):\n",
        "    \n",
        "    \n",
        "    lst.append(res1)\n",
        "    \n",
        "  else:\n",
        "    \n",
        "    lst.append(res2)\n",
        "    \n",
        "  final.append(lst)\n",
        "  \n",
        "  "
      ],
      "metadata": {
        "id": "VnSYZkLSF8Hl"
      },
      "execution_count": null,
      "outputs": []
    },
    {
      "cell_type": "code",
      "source": [
        "abs.to_csv(\"abstract.csv\")"
      ],
      "metadata": {
        "id": "dnJIHa5bQ0vw"
      },
      "execution_count": null,
      "outputs": []
    },
    {
      "cell_type": "code",
      "source": [
        "final = []\n",
        "files = os.listdir()\n",
        "\n",
        "for file in files:\n",
        "  lst = []\n",
        "  \n",
        "  \n",
        "  word1 = \"Abstract\"\n",
        "  word2 = \"Keyword\"\n",
        "  word3 = \"Introduction\"\n",
        "  word4 = \"Index Terms\"\n",
        "  word5 = \"Background\"\n",
        " \n",
        "  reader = PdfReader(file)\n",
        "\n",
        "  page = reader.pages[0]\n",
        "\n",
        "\n",
        "  text = page.extract_text()\n",
        "  \n",
        "  idx1 = text.find(word1)\n",
        "  idx2 = text.find(word2)\n",
        "  idx3 = text.find(word3)\n",
        "  idx4 = text.find(word4)\n",
        "  idx5 = text.find(word5)\n",
        "  \n",
        "\n",
        "  if idx1 ==-1:\n",
        "    word1 = word1.upper()\n",
        "    idx1 = text.find(word1)\n",
        "  if idx2 ==-1:\n",
        "    word2 = word2.upper()\n",
        "    idx2 = text.find(word2)\n",
        "  if idx3 ==-1:\n",
        "    word3 = word3.upper()\n",
        "    idx3 = text.find(word3)\n",
        "  if idx4 ==-1:\n",
        "    word4 = word4.upper()\n",
        "    idx4= text.find(word4)\n",
        "  if idx5 ==-1:\n",
        "    word5 = word5.upper()\n",
        "    idx5 = text.find(word5)\n",
        "\n",
        "\n",
        "  if idx2 !=-1:\n",
        "    res = text[idx1 + len(word1) + 1: idx2]\n",
        "  elif idx3 !=-1:\n",
        "    res = text[idx1 + len(word1) + 1: idx3]\n",
        "  elif idx4 !=-1:\n",
        "    res = text[idx1 + len(word1) + 1: idx4]\n",
        "  elif idx5 !=-1:\n",
        "    res = text[idx1 + len(word1) + 1: idx5]\n",
        "  else:\n",
        "    res = \"No abstract\"\n",
        "\n",
        "  lst.append(file)\n",
        "  lst.append(res)\n",
        " \n",
        "    \n",
        "  final.append(lst)\n",
        "  \n",
        "  "
      ],
      "metadata": {
        "id": "_5G_EKAVnFd9"
      },
      "execution_count": null,
      "outputs": []
    },
    {
      "cell_type": "code",
      "source": [
        "abs  = pd.DataFrame(final,columns=[\"PDF\",\"Abstract\"])"
      ],
      "metadata": {
        "id": "4HJJxPPmFQDD"
      },
      "execution_count": null,
      "outputs": []
    },
    {
      "cell_type": "code",
      "source": [
        "abs"
      ],
      "metadata": {
        "colab": {
          "base_uri": "https://localhost:8080/",
          "height": 8948
        },
        "id": "xzaoSmtXGnWC",
        "outputId": "975f481b-fa58-40f2-96ac-9ba75206316a"
      },
      "execution_count": null,
      "outputs": [
        {
          "output_type": "execute_result",
          "data": {
            "text/plain": [
              "               PDF                                           Abstract\n",
              "0    1105.4125.pdf  We study the problem of providing privacy-\\npr...\n",
              "1    0910.3766.pdf   We re-investigate the problem of LTL model-ch...\n",
              "2    1209.2262.pdf  Advances in solid-state technology have enable...\n",
              "3    1209.2784.pdf  Since its inception, the modus operandi of mul...\n",
              "4    1109.3649.pdf  Compressive sensing (CS) has recently emerged ...\n",
              "..             ...                                                ...\n",
              "995  0810.4727.pdf  In this paper, we develop a computational appr...\n",
              "996  0811.0971.pdf  We have  used Galois lattices for \\nmining hyd...\n",
              "997  0811.1570.pdf  Subsystem codes protect quantum information by...\n",
              "998  0811.2675.pdf  In this paper we obtain several characterizati...\n",
              "999  1304.3437.pdf                                        No abstract\n",
              "\n",
              "[1000 rows x 2 columns]"
            ],
            "text/html": [
              "\n",
              "  <div id=\"df-bdc750d5-2de3-4a36-9d7d-0b5ac58406f7\">\n",
              "    <div class=\"colab-df-container\">\n",
              "      <div>\n",
              "<style scoped>\n",
              "    .dataframe tbody tr th:only-of-type {\n",
              "        vertical-align: middle;\n",
              "    }\n",
              "\n",
              "    .dataframe tbody tr th {\n",
              "        vertical-align: top;\n",
              "    }\n",
              "\n",
              "    .dataframe thead th {\n",
              "        text-align: right;\n",
              "    }\n",
              "</style>\n",
              "<table border=\"1\" class=\"dataframe\">\n",
              "  <thead>\n",
              "    <tr style=\"text-align: right;\">\n",
              "      <th></th>\n",
              "      <th>PDF</th>\n",
              "      <th>Abstract</th>\n",
              "    </tr>\n",
              "  </thead>\n",
              "  <tbody>\n",
              "    <tr>\n",
              "      <th>0</th>\n",
              "      <td>1105.4125.pdf</td>\n",
              "      <td>We study the problem of providing privacy-\\npr...</td>\n",
              "    </tr>\n",
              "    <tr>\n",
              "      <th>1</th>\n",
              "      <td>0910.3766.pdf</td>\n",
              "      <td>We re-investigate the problem of LTL model-ch...</td>\n",
              "    </tr>\n",
              "    <tr>\n",
              "      <th>2</th>\n",
              "      <td>1209.2262.pdf</td>\n",
              "      <td>Advances in solid-state technology have enable...</td>\n",
              "    </tr>\n",
              "    <tr>\n",
              "      <th>3</th>\n",
              "      <td>1209.2784.pdf</td>\n",
              "      <td>Since its inception, the modus operandi of mul...</td>\n",
              "    </tr>\n",
              "    <tr>\n",
              "      <th>4</th>\n",
              "      <td>1109.3649.pdf</td>\n",
              "      <td>Compressive sensing (CS) has recently emerged ...</td>\n",
              "    </tr>\n",
              "    <tr>\n",
              "      <th>...</th>\n",
              "      <td>...</td>\n",
              "      <td>...</td>\n",
              "    </tr>\n",
              "    <tr>\n",
              "      <th>995</th>\n",
              "      <td>0810.4727.pdf</td>\n",
              "      <td>In this paper, we develop a computational appr...</td>\n",
              "    </tr>\n",
              "    <tr>\n",
              "      <th>996</th>\n",
              "      <td>0811.0971.pdf</td>\n",
              "      <td>We have  used Galois lattices for \\nmining hyd...</td>\n",
              "    </tr>\n",
              "    <tr>\n",
              "      <th>997</th>\n",
              "      <td>0811.1570.pdf</td>\n",
              "      <td>Subsystem codes protect quantum information by...</td>\n",
              "    </tr>\n",
              "    <tr>\n",
              "      <th>998</th>\n",
              "      <td>0811.2675.pdf</td>\n",
              "      <td>In this paper we obtain several characterizati...</td>\n",
              "    </tr>\n",
              "    <tr>\n",
              "      <th>999</th>\n",
              "      <td>1304.3437.pdf</td>\n",
              "      <td>No abstract</td>\n",
              "    </tr>\n",
              "  </tbody>\n",
              "</table>\n",
              "<p>1000 rows × 2 columns</p>\n",
              "</div>\n",
              "      <button class=\"colab-df-convert\" onclick=\"convertToInteractive('df-bdc750d5-2de3-4a36-9d7d-0b5ac58406f7')\"\n",
              "              title=\"Convert this dataframe to an interactive table.\"\n",
              "              style=\"display:none;\">\n",
              "        \n",
              "  <svg xmlns=\"http://www.w3.org/2000/svg\" height=\"24px\"viewBox=\"0 0 24 24\"\n",
              "       width=\"24px\">\n",
              "    <path d=\"M0 0h24v24H0V0z\" fill=\"none\"/>\n",
              "    <path d=\"M18.56 5.44l.94 2.06.94-2.06 2.06-.94-2.06-.94-.94-2.06-.94 2.06-2.06.94zm-11 1L8.5 8.5l.94-2.06 2.06-.94-2.06-.94L8.5 2.5l-.94 2.06-2.06.94zm10 10l.94 2.06.94-2.06 2.06-.94-2.06-.94-.94-2.06-.94 2.06-2.06.94z\"/><path d=\"M17.41 7.96l-1.37-1.37c-.4-.4-.92-.59-1.43-.59-.52 0-1.04.2-1.43.59L10.3 9.45l-7.72 7.72c-.78.78-.78 2.05 0 2.83L4 21.41c.39.39.9.59 1.41.59.51 0 1.02-.2 1.41-.59l7.78-7.78 2.81-2.81c.8-.78.8-2.07 0-2.86zM5.41 20L4 18.59l7.72-7.72 1.47 1.35L5.41 20z\"/>\n",
              "  </svg>\n",
              "      </button>\n",
              "      \n",
              "  <style>\n",
              "    .colab-df-container {\n",
              "      display:flex;\n",
              "      flex-wrap:wrap;\n",
              "      gap: 12px;\n",
              "    }\n",
              "\n",
              "    .colab-df-convert {\n",
              "      background-color: #E8F0FE;\n",
              "      border: none;\n",
              "      border-radius: 50%;\n",
              "      cursor: pointer;\n",
              "      display: none;\n",
              "      fill: #1967D2;\n",
              "      height: 32px;\n",
              "      padding: 0 0 0 0;\n",
              "      width: 32px;\n",
              "    }\n",
              "\n",
              "    .colab-df-convert:hover {\n",
              "      background-color: #E2EBFA;\n",
              "      box-shadow: 0px 1px 2px rgba(60, 64, 67, 0.3), 0px 1px 3px 1px rgba(60, 64, 67, 0.15);\n",
              "      fill: #174EA6;\n",
              "    }\n",
              "\n",
              "    [theme=dark] .colab-df-convert {\n",
              "      background-color: #3B4455;\n",
              "      fill: #D2E3FC;\n",
              "    }\n",
              "\n",
              "    [theme=dark] .colab-df-convert:hover {\n",
              "      background-color: #434B5C;\n",
              "      box-shadow: 0px 1px 3px 1px rgba(0, 0, 0, 0.15);\n",
              "      filter: drop-shadow(0px 1px 2px rgba(0, 0, 0, 0.3));\n",
              "      fill: #FFFFFF;\n",
              "    }\n",
              "  </style>\n",
              "\n",
              "      <script>\n",
              "        const buttonEl =\n",
              "          document.querySelector('#df-bdc750d5-2de3-4a36-9d7d-0b5ac58406f7 button.colab-df-convert');\n",
              "        buttonEl.style.display =\n",
              "          google.colab.kernel.accessAllowed ? 'block' : 'none';\n",
              "\n",
              "        async function convertToInteractive(key) {\n",
              "          const element = document.querySelector('#df-bdc750d5-2de3-4a36-9d7d-0b5ac58406f7');\n",
              "          const dataTable =\n",
              "            await google.colab.kernel.invokeFunction('convertToInteractive',\n",
              "                                                     [key], {});\n",
              "          if (!dataTable) return;\n",
              "\n",
              "          const docLinkHtml = 'Like what you see? Visit the ' +\n",
              "            '<a target=\"_blank\" href=https://colab.research.google.com/notebooks/data_table.ipynb>data table notebook</a>'\n",
              "            + ' to learn more about interactive tables.';\n",
              "          element.innerHTML = '';\n",
              "          dataTable['output_type'] = 'display_data';\n",
              "          await google.colab.output.renderOutput(dataTable, element);\n",
              "          const docLink = document.createElement('div');\n",
              "          docLink.innerHTML = docLinkHtml;\n",
              "          element.appendChild(docLink);\n",
              "        }\n",
              "      </script>\n",
              "    </div>\n",
              "  </div>\n",
              "  "
            ]
          },
          "metadata": {},
          "execution_count": 11
        }
      ]
    },
    {
      "cell_type": "code",
      "source": [
        "abs.to_csv(\"abstract_new.csv\")"
      ],
      "metadata": {
        "id": "nK4ipCkNWGC0"
      },
      "execution_count": null,
      "outputs": []
    }
  ]
}