{
  "nbformat": 4,
  "nbformat_minor": 0,
  "metadata": {
    "colab": {
      "provenance": []
    },
    "kernelspec": {
      "name": "python3",
      "display_name": "Python 3"
    },
    "language_info": {
      "name": "python"
    }
  },
  "cells": [
    {
      "cell_type": "code",
      "execution_count": 6,
      "metadata": {
        "id": "Ow1X5qfEYeqt"
      },
      "outputs": [],
      "source": [
        "import pandas as pd\n",
        "\n",
        "# Read the CSV file\n",
        "df = pd.read_csv('/content/title8 (1).csv')\n",
        "\n",
        "pdf_title_list = []\n",
        "count=0;\n",
        "# Loop through the rows of the DataFrame\n",
        "for index, row in df.iterrows():\n",
        "    title = row['TITLE']\n",
        "    pdf = row['PDF']\n",
        "    # If the Title column is not empty\n",
        "    if pd.notna(title):\n",
        "        pdf_title_list.append([pdf, title])\n",
        "\n",
        "# Create a new DataFrame\n",
        "pdf_title_df = pd.DataFrame(pdf_title_list, columns=['PDF', 'TITLE'])\n",
        "\n",
        "# Write the new DataFrame to a new CSV file\n",
        "pdf_title_df.to_csv('research.csv', index=False)\n"
      ]
    }
  ]
}