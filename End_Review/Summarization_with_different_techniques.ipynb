{
  "nbformat": 4,
  "nbformat_minor": 0,
  "metadata": {
    "colab": {
      "provenance": []
    },
    "kernelspec": {
      "name": "python3",
      "display_name": "Python 3"
    },
    "language_info": {
      "name": "python"
    }
  },
  "cells": [
    {
      "cell_type": "code",
      "execution_count": null,
      "metadata": {
        "colab": {
          "base_uri": "https://localhost:8080/"
        },
        "id": "si9KT9jjbDF-",
        "outputId": "50ba6115-555c-459c-d3bb-f8628a3a16ab"
      },
      "outputs": [
        {
          "output_type": "stream",
          "name": "stdout",
          "text": [
            "Looking in indexes: https://pypi.org/simple, https://us-python.pkg.dev/colab-wheels/public/simple/\n",
            "Collecting transformers\n",
            "  Downloading transformers-4.27.4-py3-none-any.whl (6.8 MB)\n",
            "\u001b[2K     \u001b[90m━━━━━━━━━━━━━━━━━━━━━━━━━━━━━━━━━━━━━━━━\u001b[0m \u001b[32m6.8/6.8 MB\u001b[0m \u001b[31m52.4 MB/s\u001b[0m eta \u001b[36m0:00:00\u001b[0m\n",
            "\u001b[?25hCollecting huggingface-hub<1.0,>=0.11.0\n",
            "  Downloading huggingface_hub-0.13.4-py3-none-any.whl (200 kB)\n",
            "\u001b[2K     \u001b[90m━━━━━━━━━━━━━━━━━━━━━━━━━━━━━━━━━━━━━━\u001b[0m \u001b[32m200.1/200.1 kB\u001b[0m \u001b[31m26.6 MB/s\u001b[0m eta \u001b[36m0:00:00\u001b[0m\n",
            "\u001b[?25hRequirement already satisfied: regex!=2019.12.17 in /usr/local/lib/python3.9/dist-packages (from transformers) (2022.10.31)\n",
            "Requirement already satisfied: pyyaml>=5.1 in /usr/local/lib/python3.9/dist-packages (from transformers) (6.0)\n",
            "Requirement already satisfied: packaging>=20.0 in /usr/local/lib/python3.9/dist-packages (from transformers) (23.0)\n",
            "Requirement already satisfied: requests in /usr/local/lib/python3.9/dist-packages (from transformers) (2.27.1)\n",
            "Requirement already satisfied: tqdm>=4.27 in /usr/local/lib/python3.9/dist-packages (from transformers) (4.65.0)\n",
            "Requirement already satisfied: filelock in /usr/local/lib/python3.9/dist-packages (from transformers) (3.11.0)\n",
            "Requirement already satisfied: numpy>=1.17 in /usr/local/lib/python3.9/dist-packages (from transformers) (1.22.4)\n",
            "Collecting tokenizers!=0.11.3,<0.14,>=0.11.1\n",
            "  Downloading tokenizers-0.13.3-cp39-cp39-manylinux_2_17_x86_64.manylinux2014_x86_64.whl (7.8 MB)\n",
            "\u001b[2K     \u001b[90m━━━━━━━━━━━━━━━━━━━━━━━━━━━━━━━━━━━━━━━━\u001b[0m \u001b[32m7.8/7.8 MB\u001b[0m \u001b[31m114.4 MB/s\u001b[0m eta \u001b[36m0:00:00\u001b[0m\n",
            "\u001b[?25hRequirement already satisfied: typing-extensions>=3.7.4.3 in /usr/local/lib/python3.9/dist-packages (from huggingface-hub<1.0,>=0.11.0->transformers) (4.5.0)\n",
            "Requirement already satisfied: certifi>=2017.4.17 in /usr/local/lib/python3.9/dist-packages (from requests->transformers) (2022.12.7)\n",
            "Requirement already satisfied: idna<4,>=2.5 in /usr/local/lib/python3.9/dist-packages (from requests->transformers) (3.4)\n",
            "Requirement already satisfied: urllib3<1.27,>=1.21.1 in /usr/local/lib/python3.9/dist-packages (from requests->transformers) (1.26.15)\n",
            "Requirement already satisfied: charset-normalizer~=2.0.0 in /usr/local/lib/python3.9/dist-packages (from requests->transformers) (2.0.12)\n",
            "Installing collected packages: tokenizers, huggingface-hub, transformers\n",
            "Successfully installed huggingface-hub-0.13.4 tokenizers-0.13.3 transformers-4.27.4\n",
            "Looking in indexes: https://pypi.org/simple, https://us-python.pkg.dev/colab-wheels/public/simple/\n",
            "Collecting PyPDF2\n",
            "  Downloading pypdf2-3.0.1-py3-none-any.whl (232 kB)\n",
            "\u001b[2K     \u001b[90m━━━━━━━━━━━━━━━━━━━━━━━━━━━━━━━━━━━━━━━\u001b[0m \u001b[32m232.6/232.6 kB\u001b[0m \u001b[31m5.8 MB/s\u001b[0m eta \u001b[36m0:00:00\u001b[0m\n",
            "\u001b[?25hRequirement already satisfied: typing_extensions>=3.10.0.0 in /usr/local/lib/python3.9/dist-packages (from PyPDF2) (4.5.0)\n",
            "Installing collected packages: PyPDF2\n",
            "Successfully installed PyPDF2-3.0.1\n"
          ]
        }
      ],
      "source": [
        "!pip install transformers\n",
        "!pip install PyPDF2\n",
        "\n"
      ]
    },
    {
      "cell_type": "code",
      "source": [
        "! pip install spellchecker"
      ],
      "metadata": {
        "colab": {
          "base_uri": "https://localhost:8080/"
        },
        "id": "357SV55mf9ao",
        "outputId": "d8372cb8-a606-4e8c-c841-35391175cb19"
      },
      "execution_count": null,
      "outputs": [
        {
          "output_type": "stream",
          "name": "stdout",
          "text": [
            "Looking in indexes: https://pypi.org/simple, https://us-python.pkg.dev/colab-wheels/public/simple/\n",
            "Collecting spellchecker\n",
            "  Downloading spellchecker-0.4.tar.gz (3.9 MB)\n",
            "\u001b[2K     \u001b[90m━━━━━━━━━━━━━━━━━━━━━━━━━━━━━━━━━━━━━━━━\u001b[0m \u001b[32m3.9/3.9 MB\u001b[0m \u001b[31m12.4 MB/s\u001b[0m eta \u001b[36m0:00:00\u001b[0m\n",
            "\u001b[?25h  Preparing metadata (setup.py) ... \u001b[?25l\u001b[?25hdone\n",
            "Requirement already satisfied: setuptools in /usr/local/lib/python3.9/dist-packages (from spellchecker) (67.6.1)\n",
            "Collecting inexactsearch\n",
            "  Downloading inexactsearch-1.0.2.tar.gz (21 kB)\n",
            "  Preparing metadata (setup.py) ... \u001b[?25l\u001b[?25hdone\n",
            "Collecting soundex>=1.0\n",
            "  Downloading soundex-1.1.3.tar.gz (9.1 kB)\n",
            "  Preparing metadata (setup.py) ... \u001b[?25l\u001b[?25hdone\n",
            "Collecting silpa_common>=0.3\n",
            "  Downloading silpa_common-0.3.tar.gz (9.4 kB)\n",
            "  Preparing metadata (setup.py) ... \u001b[?25l\u001b[?25hdone\n",
            "Building wheels for collected packages: spellchecker, inexactsearch, silpa_common, soundex\n",
            "  Building wheel for spellchecker (setup.py) ... \u001b[?25l\u001b[?25hdone\n",
            "  Created wheel for spellchecker: filename=spellchecker-0.4-py3-none-any.whl size=3966516 sha256=f4546b491d05a2a64e56203d080057494283b2ef510215a5619cc5ca1fa02f04\n",
            "  Stored in directory: /root/.cache/pip/wheels/8c/52/b3/8795c86fe999a3b1a7d0f1b75a197fd984e37057cb537e2977\n",
            "  Building wheel for inexactsearch (setup.py) ... \u001b[?25l\u001b[?25hdone\n",
            "  Created wheel for inexactsearch: filename=inexactsearch-1.0.2-py3-none-any.whl size=7141 sha256=7b0ffe9c1e4f5d4a44e1c7a3e98095a2ac81a8975aaef2818ab63feda7d48e45\n",
            "  Stored in directory: /root/.cache/pip/wheels/da/15/83/b2b0adf6ebb17b0c7b8de4a901f0585ceb7627788a80071de0\n",
            "  Building wheel for silpa_common (setup.py) ... \u001b[?25l\u001b[?25hdone\n",
            "  Created wheel for silpa_common: filename=silpa_common-0.3-py3-none-any.whl size=8480 sha256=aaccebf039146499e2f058def097b62d4f2dd16cccf309f3b8d3365adf54a28c\n",
            "  Stored in directory: /root/.cache/pip/wheels/a6/6f/59/e83ae5c4ca78098dbecd1708dc7cd6856f202c0a008d8c3340\n",
            "  Building wheel for soundex (setup.py) ... \u001b[?25l\u001b[?25hdone\n",
            "  Created wheel for soundex: filename=soundex-1.1.3-py3-none-any.whl size=8893 sha256=e787c1c459eb1af291fbdc84f2a16fd979ab65c0f08534fd226b6f7bee880fc9\n",
            "  Stored in directory: /root/.cache/pip/wheels/e8/fb/75/027059566520e35a1388cc49b69c84f6a28c4d530a5944ff55\n",
            "Successfully built spellchecker inexactsearch silpa_common soundex\n",
            "Installing collected packages: silpa_common, soundex, inexactsearch, spellchecker\n",
            "Successfully installed inexactsearch-1.0.2 silpa_common-0.3 soundex-1.1.3 spellchecker-0.4\n"
          ]
        }
      ]
    },
    {
      "cell_type": "code",
      "source": [
        "from transformers import pipeline \n",
        "import os\n",
        "from PyPDF2 import PdfReader\n",
        "import re\n",
        "import pandas as pd\n",
        "import warnings\n",
        "warnings.filterwarnings('ignore')"
      ],
      "metadata": {
        "id": "35wSKlcebh-F"
      },
      "execution_count": null,
      "outputs": []
    },
    {
      "cell_type": "code",
      "source": [
        "# importing necessary libraries\n",
        "import pandas as pd\n",
        "import warnings\n",
        "import requests\n",
        "import tweepy\n",
        "\n",
        "warnings.filterwarnings('ignore')\n",
        "import seaborn as sns\n",
        "from sklearn.naive_bayes import MultinomialNB\n",
        "import matplotlib.pyplot as plt\n",
        "from sklearn.tree import DecisionTreeClassifier\n",
        "from sklearn.model_selection import train_test_split \n",
        "# from sklearn.preprocessing import  MinMaxScaler \n",
        "from sklearn.preprocessing import  StandardScaler \n",
        "from sklearn import metrics as mt\n",
        "# from spellchecker import SpellChecker \n",
        "import nltk\n",
        "nltk.download('punkt')\n",
        "from nltk import word_tokenize\n",
        "nltk.download('stopwords')\n",
        "from nltk.corpus import stopwords\n",
        "from nltk.tokenize import RegexpTokenizer\n",
        "from nltk import FreqDist\n",
        "from nltk.stem import WordNetLemmatizer\n",
        "from nltk import word_tokenize, pos_tag\n",
        "nltk.download('averaged_perceptron_tagger')\n",
        "nltk.download('wordnet')\n",
        "nltk.download('omw-1.4')\n",
        "from sklearn.model_selection import GridSearchCV\n",
        "import re\n",
        "from sklearn.linear_model import LogisticRegression\n",
        "from sklearn.feature_extraction.text import CountVectorizer\n",
        "from sklearn.model_selection import GridSearchCV\n",
        "from sklearn.ensemble import RandomForestClassifier\n",
        "from sklearn.svm import SVC\n",
        "from sklearn.ensemble import VotingClassifier\n",
        "from sklearn.datasets import make_classification"
      ],
      "metadata": {
        "colab": {
          "base_uri": "https://localhost:8080/"
        },
        "id": "aoiZiiijf30t",
        "outputId": "c0910e93-a177-499f-809b-dc560c9f8a48"
      },
      "execution_count": null,
      "outputs": [
        {
          "output_type": "stream",
          "name": "stderr",
          "text": [
            "[nltk_data] Downloading package punkt to /root/nltk_data...\n",
            "[nltk_data]   Unzipping tokenizers/punkt.zip.\n",
            "[nltk_data] Downloading package stopwords to /root/nltk_data...\n",
            "[nltk_data]   Unzipping corpora/stopwords.zip.\n",
            "[nltk_data] Downloading package averaged_perceptron_tagger to\n",
            "[nltk_data]     /root/nltk_data...\n",
            "[nltk_data]   Unzipping taggers/averaged_perceptron_tagger.zip.\n",
            "[nltk_data] Downloading package wordnet to /root/nltk_data...\n",
            "[nltk_data] Downloading package omw-1.4 to /root/nltk_data...\n"
          ]
        }
      ]
    },
    {
      "cell_type": "code",
      "source": [
        "import os\n",
        "import re\n",
        "import pandas as pd\n",
        "import warnings\n",
        "warnings.filterwarnings('ignore')"
      ],
      "metadata": {
        "id": "mNhUF9jQCn3z"
      },
      "execution_count": null,
      "outputs": []
    },
    {
      "cell_type": "code",
      "source": [
        "pdf_path = '/content/drive/MyDrive/sampled_data_for_bda/'\n"
      ],
      "metadata": {
        "id": "L3F1dUpTblVc"
      },
      "execution_count": null,
      "outputs": []
    },
    {
      "cell_type": "code",
      "source": [
        "os.chdir(pdf_path)"
      ],
      "metadata": {
        "id": "5YppSZECbsGI"
      },
      "execution_count": null,
      "outputs": []
    },
    {
      "cell_type": "code",
      "source": [
        "from google.colab import drive\n",
        "drive.mount('/content/drive')"
      ],
      "metadata": {
        "colab": {
          "base_uri": "https://localhost:8080/"
        },
        "id": "GKXYEOC3ldHh",
        "outputId": "754a8cf8-2a7a-4579-ce0e-0e16632e14df"
      },
      "execution_count": null,
      "outputs": [
        {
          "output_type": "stream",
          "name": "stdout",
          "text": [
            "Drive already mounted at /content/drive; to attempt to forcibly remount, call drive.mount(\"/content/drive\", force_remount=True).\n"
          ]
        }
      ]
    },
    {
      "cell_type": "code",
      "source": [
        "final = []\n",
        "files = os.listdir()\n",
        "c=0\n",
        "for file in files:\n",
        "  lst = []\n",
        "  print(file,c)\n",
        "  if c<2:\n",
        "    pdf_reader = PdfReader(file)\n",
        "    \n",
        "    # Get the total number of pages in the PDF file\n",
        "    num_pages = len(pdf_reader.pages)\n",
        "    \n",
        "    # Create an empty string to store the content of the PDF file\n",
        "    content = \"\"\n",
        "    \n",
        "    # Loop through each page in the PDF file and extract its text\n",
        "    for page in range(num_pages):\n",
        "        pdf_page = pdf_reader.pages[page]\n",
        "        text = pdf_page.extract_text()\n",
        "        content += text\n",
        "    lst.append(content)\n",
        "    final.append(lst)\n",
        "  else:\n",
        "    break\n",
        "  c+=1\n",
        "    # Print the extracted content of the PDF file\n",
        "    #print(content)\n"
      ],
      "metadata": {
        "colab": {
          "base_uri": "https://localhost:8080/"
        },
        "id": "1AFkxY5jbs1v",
        "outputId": "2ea2e300-df8c-4e07-bb25-78a3011abe6e"
      },
      "execution_count": null,
      "outputs": [
        {
          "output_type": "stream",
          "name": "stdout",
          "text": [
            "2201.10138.pdf 0\n",
            "2001.09320.pdf 1\n",
            "1708.04060.pdf 2\n"
          ]
        }
      ]
    },
    {
      "cell_type": "code",
      "source": [
        "final = []\n",
        "files = os.listdir()\n",
        "c=0\n",
        "for file in files:\n",
        "  lst = []\n",
        "  print(file,c)\n",
        "  if c<1:\n",
        "    c+=1\n",
        "    reader = PdfReader(file)\n",
        "    lst = []\n",
        "    # Get the total number of pages in the PDF file\n",
        "    num_pages = len(reader.pages)\n",
        "    \n",
        "    # Create an empty string to store the content of the PDF file\n",
        "    content = \"\"\n",
        "    \n",
        "    # Loop through each page in the PDF file and extract its text\n",
        "    for page in range(num_pages):\n",
        "        page1 = reader.pages[page]\n",
        "        # page2 = reader.pages[num_pages-1]\n",
        "        word1 = \"Introduction\"\n",
        "        word2 = \"References\"\n",
        "         \n",
        "        text1 = page1.extract_text()\n",
        "        # text2 = page1.extract_text()\n",
        "        print(text1)\n",
        "        # idx1 = text1.find(word1)\n",
        "        # idx2 = text1.find(word2)\n",
        "        # print(idx1,idx2)\n",
        "\n",
        "        # if idx1 ==-1:\n",
        "        #   word1 = word1.upper()\n",
        "        #   idx1 = text1.find(word1)\n",
        "        # if idx2 ==-1:\n",
        "        #   word2 = word2.upper()\n",
        "        #   idx2 = text1.find(word2)\n",
        "        # print(idx1,idx2)\n",
        "\n",
        "        # if idx1 !=-1 and idx2 !=-1:\n",
        "        #   res = text1[idx1 + len(word1) + 1: idx2]\n",
        "        #   content += text\n",
        "        # else:\n",
        "        #   res = \"No data\"\n",
        "    \n",
        "        # lst.append(res)\n",
        "        # lst.append(content)\n",
        "\n",
        "\n",
        "\n",
        "\n",
        "    \n",
        "    # page1 = reader.pages[0]\n",
        "    # page2 = reader.pages[num_pages-1]\n",
        "    # word1 = \"Introduction\"\n",
        "    # word2 = \"References\"\n",
        "         \n",
        "    # text1 = page1.extract_text()\n",
        "    # text2 = page2.extract_text()\n",
        "    # print(\"text1\",text1)\n",
        "    # print(\"text2\",text2)\n",
        "    # idx1 = text1.find(word1)\n",
        "    # idx2 = text2.find(word2)\n",
        "    # print(idx1,idx2)\n",
        "\n",
        "    # if idx1 ==-1:\n",
        "    #   word1 = word1.upper()\n",
        "    #   idx1 = text1.find(word1)\n",
        "    # if idx2 ==-1:\n",
        "    #   word2 = word2.upper()\n",
        "    #   idx2 = text2.find(word2)\n",
        "    # print(idx1,idx2)\n",
        "\n",
        "    #     if idx1 !=-1 and idx2 !=-1:\n",
        "    #       res = text1[idx1 + len(word1) + 1: idx2]\n",
        "    #       content += text\n",
        "    #     else:\n",
        "    #       res = \"No data\"\n",
        "    \n",
        "    #     lst.append(res)\n",
        "    final.append(lst)\n",
        "  else:\n",
        "    break\n",
        "  c+=1\n",
        "    # Print the extracted content of the PDF file\n",
        "    #print(content)\n"
      ],
      "metadata": {
        "id": "x9ntMCk0MNXW"
      },
      "execution_count": null,
      "outputs": []
    },
    {
      "cell_type": "code",
      "source": [
        "final"
      ],
      "metadata": {
        "id": "ae0V7dhfj_Wl"
      },
      "execution_count": null,
      "outputs": []
    },
    {
      "cell_type": "code",
      "source": [
        "final = []\n",
        "files = os.listdir()\n",
        "c=0\n",
        "for file in files:\n",
        "  c+=1\n",
        "  num_pages = len(pdf_reader.pages)\n",
        "  print(file,c)\n",
        "  if c<1:\n",
        "    lst = []\n",
        "    \n",
        "    \n",
        "    # word1 = \"Abstract\"\n",
        "    # word2 = \"Keyword\"\n",
        "    word3 = \"Introduction\"\n",
        "    # word4 = \"Index Terms\"\n",
        "    # word5 = \"Background\"\n",
        "  \n",
        "    reader = PdfReader(file)\n",
        "\n",
        "    page = reader.pages[0]\n",
        "\n",
        "\n",
        "    text = page.extract_text()\n",
        "    \n",
        "    idx1 = text.find(word1)\n",
        "    idx2 = text.find(word2)\n",
        "    idx3 = text.find(word3)\n",
        "    idx4 = text.find(word4)\n",
        "    idx5 = text.find(word5)\n",
        "    \n",
        "\n",
        "    if idx1 ==-1:\n",
        "      word1 = word1.upper()\n",
        "      idx1 = text.find(word1)\n",
        "    if idx2 ==-1:\n",
        "      word2 = word2.upper()\n",
        "      idx2 = text.find(word2)\n",
        "    if idx3 ==-1:\n",
        "      word3 = word3.upper()\n",
        "      idx3 = text.find(word3)\n",
        "    if idx4 ==-1:\n",
        "      word4 = word4.upper()\n",
        "      idx4= text.find(word4)\n",
        "    if idx5 ==-1:\n",
        "      word5 = word5.upper()\n",
        "      idx5 = text.find(word5)\n",
        "\n",
        "\n",
        "    if idx2 !=-1:\n",
        "      res = text[idx1 + len(word1) + 1: idx2]\n",
        "    elif idx3 !=-1:\n",
        "      res = text[idx1 + len(word1) + 1: idx3]\n",
        "    elif idx4 !=-1:\n",
        "      res = text[idx1 + len(word1) + 1: idx4]\n",
        "    elif idx5 !=-1:\n",
        "      res = text[idx1 + len(word1) + 1: idx5]\n",
        "    else:\n",
        "      res = \"No abstract\"\n",
        "\n",
        "    lst.append(file)\n",
        "    lst.append(res)\n",
        "  \n",
        "      \n",
        "    final.append(lst)\n",
        "  \n",
        "  "
      ],
      "metadata": {
        "id": "76WeKKUrrIxj"
      },
      "execution_count": null,
      "outputs": []
    },
    {
      "cell_type": "code",
      "source": [
        "final_df = pd.DataFrame(final,columns=[\"text\"])\n",
        "final_df = final_df.to_string(index=False)\n",
        "\n"
      ],
      "metadata": {
        "id": "7sjLR3_7bwCn"
      },
      "execution_count": null,
      "outputs": []
    },
    {
      "cell_type": "code",
      "source": [],
      "metadata": {
        "id": "M3-hXG27j_Eu"
      },
      "execution_count": null,
      "outputs": []
    },
    {
      "cell_type": "code",
      "source": [
        "from sumy.parsers.plaintext import PlaintextParser\n",
        "from sumy.nlp.tokenizers import Tokenizer\n",
        "from sumy.summarizers.lsa import LsaSummarizer\n",
        "from sumy.summarizers.lex_rank import LexRankSummarizer\n",
        "from sumy.summarizers.luhn import LuhnSummarizer\n",
        "from sumy.summarizers.text_rank import TextRankSummarizer"
      ],
      "metadata": {
        "id": "seQoWS86z1wI"
      },
      "execution_count": null,
      "outputs": []
    },
    {
      "cell_type": "code",
      "source": [
        "!pip install gensim==3.8.3"
      ],
      "metadata": {
        "colab": {
          "base_uri": "https://localhost:8080/"
        },
        "id": "NOr2GeM1ipWB",
        "outputId": "51e08a67-c572-4104-ef28-d91a7efa60b1"
      },
      "execution_count": null,
      "outputs": [
        {
          "output_type": "stream",
          "name": "stdout",
          "text": [
            "Looking in indexes: https://pypi.org/simple, https://us-python.pkg.dev/colab-wheels/public/simple/\n",
            "Requirement already satisfied: gensim==3.8.3 in /usr/local/lib/python3.9/dist-packages (3.8.3)\n",
            "Requirement already satisfied: numpy>=1.11.3 in /usr/local/lib/python3.9/dist-packages (from gensim==3.8.3) (1.22.4)\n",
            "Requirement already satisfied: smart-open>=1.8.1 in /usr/local/lib/python3.9/dist-packages (from gensim==3.8.3) (6.3.0)\n",
            "Requirement already satisfied: six>=1.5.0 in /usr/local/lib/python3.9/dist-packages (from gensim==3.8.3) (1.16.0)\n",
            "Requirement already satisfied: scipy>=0.18.1 in /usr/local/lib/python3.9/dist-packages (from gensim==3.8.3) (1.10.1)\n"
          ]
        }
      ]
    },
    {
      "cell_type": "code",
      "source": [
        "# content = final_df[0]\n",
        "# content"
      ],
      "metadata": {
        "id": "BkESBv_Ckabi"
      },
      "execution_count": null,
      "outputs": []
    },
    {
      "cell_type": "code",
      "source": [
        "from gensim.summarization.summarizer import summarize\n",
        "from gensim.summarization import keywords\n",
        "\n",
        "import en_core_web_sm\n",
        "\n",
        "content = final_df[\"text\"]\n",
        "nlp = en_core_web_sm.load()\n",
        "# doc = nlp(content)\n",
        "doc = content.apply(nlp)\n",
        "\n",
        "\n",
        "\n",
        "summ_per = content.apply(summarize,ratio = 25)\n",
        "\n",
        "summ_words = content.apply(summarize, word_count = 100)\n",
        "\n",
        "final_df['summ_per'] = summ_per\n",
        "final_df['summ_words'] = summ_words\n",
        "\n",
        "\n"
      ],
      "metadata": {
        "id": "LvUa7F4wjbNB"
      },
      "execution_count": null,
      "outputs": []
    },
    {
      "cell_type": "code",
      "source": [
        "final_df"
      ],
      "metadata": {
        "colab": {
          "base_uri": "https://localhost:8080/",
          "height": 112
        },
        "id": "b3TEVjWoqu2p",
        "outputId": "018bccfa-b06b-4f1b-a5ed-32a95a0ae6af"
      },
      "execution_count": null,
      "outputs": [
        {
          "output_type": "execute_result",
          "data": {
            "text/plain": [
              "                                                text  \\\n",
              "0  Multi-scale Community Detection in Temporal\\nN...   \n",
              "1  An Empirical Study of Usages, Updates and Risk...   \n",
              "\n",
              "                                            summ_per  \\\n",
              "0  Multi-scale Community Detection in Temporal\\nN...   \n",
              "1  An Empirical Study of Usages, Updates and Risk...   \n",
              "\n",
              "                                          summ_words  \\\n",
              "0  wavelets, a multi-scale community detection me...   \n",
              "1  12An Empirical Study of Usages, Updates and Ri...   \n",
              "\n",
              "                                           text_rank  \n",
              "0  0    Multi-scale Community Detection in Tempor...  \n",
              "1  0    Multi-scale Community Detection in Tempor...  "
            ],
            "text/html": [
              "\n",
              "  <div id=\"df-00d75256-9d36-4d09-8d5e-639e24025733\">\n",
              "    <div class=\"colab-df-container\">\n",
              "      <div>\n",
              "<style scoped>\n",
              "    .dataframe tbody tr th:only-of-type {\n",
              "        vertical-align: middle;\n",
              "    }\n",
              "\n",
              "    .dataframe tbody tr th {\n",
              "        vertical-align: top;\n",
              "    }\n",
              "\n",
              "    .dataframe thead th {\n",
              "        text-align: right;\n",
              "    }\n",
              "</style>\n",
              "<table border=\"1\" class=\"dataframe\">\n",
              "  <thead>\n",
              "    <tr style=\"text-align: right;\">\n",
              "      <th></th>\n",
              "      <th>text</th>\n",
              "      <th>summ_per</th>\n",
              "      <th>summ_words</th>\n",
              "      <th>text_rank</th>\n",
              "    </tr>\n",
              "  </thead>\n",
              "  <tbody>\n",
              "    <tr>\n",
              "      <th>0</th>\n",
              "      <td>Multi-scale Community Detection in Temporal\\nN...</td>\n",
              "      <td>Multi-scale Community Detection in Temporal\\nN...</td>\n",
              "      <td>wavelets, a multi-scale community detection me...</td>\n",
              "      <td>0    Multi-scale Community Detection in Tempor...</td>\n",
              "    </tr>\n",
              "    <tr>\n",
              "      <th>1</th>\n",
              "      <td>An Empirical Study of Usages, Updates and Risk...</td>\n",
              "      <td>An Empirical Study of Usages, Updates and Risk...</td>\n",
              "      <td>12An Empirical Study of Usages, Updates and Ri...</td>\n",
              "      <td>0    Multi-scale Community Detection in Tempor...</td>\n",
              "    </tr>\n",
              "  </tbody>\n",
              "</table>\n",
              "</div>\n",
              "      <button class=\"colab-df-convert\" onclick=\"convertToInteractive('df-00d75256-9d36-4d09-8d5e-639e24025733')\"\n",
              "              title=\"Convert this dataframe to an interactive table.\"\n",
              "              style=\"display:none;\">\n",
              "        \n",
              "  <svg xmlns=\"http://www.w3.org/2000/svg\" height=\"24px\"viewBox=\"0 0 24 24\"\n",
              "       width=\"24px\">\n",
              "    <path d=\"M0 0h24v24H0V0z\" fill=\"none\"/>\n",
              "    <path d=\"M18.56 5.44l.94 2.06.94-2.06 2.06-.94-2.06-.94-.94-2.06-.94 2.06-2.06.94zm-11 1L8.5 8.5l.94-2.06 2.06-.94-2.06-.94L8.5 2.5l-.94 2.06-2.06.94zm10 10l.94 2.06.94-2.06 2.06-.94-2.06-.94-.94-2.06-.94 2.06-2.06.94z\"/><path d=\"M17.41 7.96l-1.37-1.37c-.4-.4-.92-.59-1.43-.59-.52 0-1.04.2-1.43.59L10.3 9.45l-7.72 7.72c-.78.78-.78 2.05 0 2.83L4 21.41c.39.39.9.59 1.41.59.51 0 1.02-.2 1.41-.59l7.78-7.78 2.81-2.81c.8-.78.8-2.07 0-2.86zM5.41 20L4 18.59l7.72-7.72 1.47 1.35L5.41 20z\"/>\n",
              "  </svg>\n",
              "      </button>\n",
              "      \n",
              "  <style>\n",
              "    .colab-df-container {\n",
              "      display:flex;\n",
              "      flex-wrap:wrap;\n",
              "      gap: 12px;\n",
              "    }\n",
              "\n",
              "    .colab-df-convert {\n",
              "      background-color: #E8F0FE;\n",
              "      border: none;\n",
              "      border-radius: 50%;\n",
              "      cursor: pointer;\n",
              "      display: none;\n",
              "      fill: #1967D2;\n",
              "      height: 32px;\n",
              "      padding: 0 0 0 0;\n",
              "      width: 32px;\n",
              "    }\n",
              "\n",
              "    .colab-df-convert:hover {\n",
              "      background-color: #E2EBFA;\n",
              "      box-shadow: 0px 1px 2px rgba(60, 64, 67, 0.3), 0px 1px 3px 1px rgba(60, 64, 67, 0.15);\n",
              "      fill: #174EA6;\n",
              "    }\n",
              "\n",
              "    [theme=dark] .colab-df-convert {\n",
              "      background-color: #3B4455;\n",
              "      fill: #D2E3FC;\n",
              "    }\n",
              "\n",
              "    [theme=dark] .colab-df-convert:hover {\n",
              "      background-color: #434B5C;\n",
              "      box-shadow: 0px 1px 3px 1px rgba(0, 0, 0, 0.15);\n",
              "      filter: drop-shadow(0px 1px 2px rgba(0, 0, 0, 0.3));\n",
              "      fill: #FFFFFF;\n",
              "    }\n",
              "  </style>\n",
              "\n",
              "      <script>\n",
              "        const buttonEl =\n",
              "          document.querySelector('#df-00d75256-9d36-4d09-8d5e-639e24025733 button.colab-df-convert');\n",
              "        buttonEl.style.display =\n",
              "          google.colab.kernel.accessAllowed ? 'block' : 'none';\n",
              "\n",
              "        async function convertToInteractive(key) {\n",
              "          const element = document.querySelector('#df-00d75256-9d36-4d09-8d5e-639e24025733');\n",
              "          const dataTable =\n",
              "            await google.colab.kernel.invokeFunction('convertToInteractive',\n",
              "                                                     [key], {});\n",
              "          if (!dataTable) return;\n",
              "\n",
              "          const docLinkHtml = 'Like what you see? Visit the ' +\n",
              "            '<a target=\"_blank\" href=https://colab.research.google.com/notebooks/data_table.ipynb>data table notebook</a>'\n",
              "            + ' to learn more about interactive tables.';\n",
              "          element.innerHTML = '';\n",
              "          dataTable['output_type'] = 'display_data';\n",
              "          await google.colab.output.renderOutput(dataTable, element);\n",
              "          const docLink = document.createElement('div');\n",
              "          docLink.innerHTML = docLinkHtml;\n",
              "          element.appendChild(docLink);\n",
              "        }\n",
              "      </script>\n",
              "    </div>\n",
              "  </div>\n",
              "  "
            ]
          },
          "metadata": {},
          "execution_count": 65
        }
      ]
    },
    {
      "cell_type": "code",
      "source": [
        "summ1 = summ_words.to_string()\n",
        "summ1\n"
      ],
      "metadata": {
        "colab": {
          "base_uri": "https://localhost:8080/",
          "height": 36
        },
        "id": "ElBsWaibnzDX",
        "outputId": "ff419843-43b8-4e27-f536-cb335c26171b"
      },
      "execution_count": null,
      "outputs": [
        {
          "output_type": "execute_result",
          "data": {
            "text/plain": [
              "'0    wavelets, a multi-scale community detection me...\\n1    12An Empirical Study of Usages, Updates and Ri...'"
            ],
            "application/vnd.google.colaboratory.intrinsic+json": {
              "type": "string"
            }
          },
          "metadata": {},
          "execution_count": 53
        }
      ]
    },
    {
      "cell_type": "code",
      "source": [
        "# 0704.0213.pdf"
      ],
      "metadata": {
        "id": "Nt-AnuKQb3YY"
      },
      "execution_count": null,
      "outputs": []
    },
    {
      "cell_type": "code",
      "source": [
        "# import os\n",
        "# import requests # pip install requests\n",
        "\n",
        "# # The authentication key (API Key).\n",
        "# # Get your own by registering at https://app.pdf.co\n",
        "# API_KEY = \"bosechitransh98@gmail.com_53682145da083b5ce87d9f5e40a40529a483cfd7d6382014293442f4b9e23798ca1beb3c\"\n",
        "\n",
        "# # Base URL for PDF.co Web API requests\n",
        "# BASE_URL = \"https://api.pdf.co/v1\"\n",
        "\n",
        "# # Source PDF file\n",
        "# SourceFile = pdf_path+\"0704.0213.pdf\"\n",
        "# # SourceFile = pdf_path_cocktail\n",
        "# # Comma-separated list of page indices (or ranges) to process. Leave empty for all pages. Example: '0,2-5,7-'.\n",
        "# Pages = \"\"\n",
        "# # PDF document password. Leave empty for unprotected documents.\n",
        "# Password = \"\"\n",
        "# # Destination XML file name\n",
        "# DestinationFile = \"/content/result.xml\"\n",
        "\n",
        "# def main(args = None):\n",
        "#     uploadedFileUrl = uploadFile(SourceFile)\n",
        "#     if (uploadedFileUrl != None):\n",
        "#         convertPdfToXml(uploadedFileUrl, DestinationFile)\n",
        "\n",
        "\n",
        "# def convertPdfToXml(uploadedFileUrl, destinationFile):\n",
        "#     \"\"\"Converts PDF To XML using PDF.co Web API\"\"\"\n",
        "\n",
        "#     # Prepare requests params as JSON\n",
        "#     # See documentation: https://apidocs.pdf.co\n",
        "#     parameters = {}\n",
        "#     parameters[\"name\"] = os.path.basename(destinationFile)\n",
        "#     parameters[\"password\"] = Password\n",
        "#     parameters[\"pages\"] = Pages\n",
        "#     parameters[\"url\"] = uploadedFileUrl\n",
        "\n",
        "#     # Prepare URL for 'PDF To XML' API request\n",
        "#     url = \"{}/pdf/convert/to/xml\".format(BASE_URL)\n",
        "\n",
        "#     # Execute request and get response as JSON\n",
        "#     response = requests.post(url, data=parameters, headers={ \"x-api-key\": API_KEY })\n",
        "#     if (response.status_code == 200):\n",
        "#         json = response.json()\n",
        "\n",
        "#         if json[\"error\"] == False:\n",
        "#             #  Get URL of result file\n",
        "#             resultFileUrl = json[\"url\"]            \n",
        "#             # Download result file\n",
        "#             r = requests.get(resultFileUrl, stream=True)\n",
        "#             if (r.status_code == 200):\n",
        "#                 with open(destinationFile, 'wb') as file:\n",
        "#                     for chunk in r:\n",
        "#                         file.write(chunk)\n",
        "#                 print(f\"Result file saved as \\\"{destinationFile}\\\" file.\")\n",
        "#             else:\n",
        "#                 print(f\"Request error: {response.status_code} {response.reason}\")\n",
        "#         else:\n",
        "#             # Show service reported error\n",
        "#             print(json[\"message\"])\n",
        "#     else:\n",
        "#         print(f\"Request error: {response.status_code} {response.reason}\")\n",
        "\n",
        "\n",
        "# def uploadFile(fileName):\n",
        "#     \"\"\"Uploads file to the cloud\"\"\"\n",
        "    \n",
        "#     # 1. RETRIEVE PRESIGNED URL TO UPLOAD FILE.\n",
        "\n",
        "#     # Prepare URL for 'Get Presigned URL' API request\n",
        "#     url = \"{}/file/upload/get-presigned-url?contenttype=application/octet-stream&name={}\".format(\n",
        "#         BASE_URL, os.path.basename(fileName))\n",
        "    \n",
        "#     # Execute request and get response as JSON\n",
        "#     response = requests.get(url, headers={ \"x-api-key\": API_KEY })\n",
        "#     if (response.status_code == 200):\n",
        "#         json = response.json()\n",
        "        \n",
        "#         if json[\"error\"] == False:\n",
        "#             # URL to use for file upload\n",
        "#             uploadUrl = json[\"presignedUrl\"]\n",
        "#             # URL for future reference\n",
        "#             uploadedFileUrl = json[\"url\"]\n",
        "\n",
        "#             # 2. UPLOAD FILE TO CLOUD.\n",
        "#             with open(fileName, 'rb') as file:\n",
        "#                 requests.put(uploadUrl, data=file, headers={ \"x-api-key\": API_KEY, \"content-type\": \"application/octet-stream\" })\n",
        "\n",
        "#             return uploadedFileUrl\n",
        "#         else:\n",
        "#             # Show service reported error\n",
        "#             print(json[\"message\"])    \n",
        "#     else:\n",
        "#         print(f\"Request error: {response.status_code} {response.reason}\")\n",
        "\n",
        "#     return None\n",
        "\n",
        "\n",
        "# if __name__ == '__main__':\n",
        "#     main()"
      ],
      "metadata": {
        "id": "XIR44H1rnaP3"
      },
      "execution_count": null,
      "outputs": []
    },
    {
      "cell_type": "code",
      "source": [
        "text = final_df[\"text\"]"
      ],
      "metadata": {
        "id": "UrL7Nj6DDYh-"
      },
      "execution_count": null,
      "outputs": []
    },
    {
      "cell_type": "code",
      "source": [
        "!pip install sumy"
      ],
      "metadata": {
        "colab": {
          "base_uri": "https://localhost:8080/"
        },
        "id": "p1FZOLpfDizB",
        "outputId": "82c17228-d63a-44bb-8e88-bf7784ad9f77"
      },
      "execution_count": null,
      "outputs": [
        {
          "output_type": "stream",
          "name": "stdout",
          "text": [
            "Looking in indexes: https://pypi.org/simple, https://us-python.pkg.dev/colab-wheels/public/simple/\n",
            "Requirement already satisfied: sumy in /usr/local/lib/python3.9/dist-packages (0.11.0)\n",
            "Requirement already satisfied: breadability>=0.1.20 in /usr/local/lib/python3.9/dist-packages (from sumy) (0.1.20)\n",
            "Requirement already satisfied: docopt<0.7,>=0.6.1 in /usr/local/lib/python3.9/dist-packages (from sumy) (0.6.2)\n",
            "Requirement already satisfied: requests>=2.7.0 in /usr/local/lib/python3.9/dist-packages (from sumy) (2.27.1)\n",
            "Requirement already satisfied: nltk>=3.0.2 in /usr/local/lib/python3.9/dist-packages (from sumy) (3.8.1)\n",
            "Requirement already satisfied: pycountry>=18.2.23 in /usr/local/lib/python3.9/dist-packages (from sumy) (22.3.5)\n",
            "Requirement already satisfied: chardet in /usr/local/lib/python3.9/dist-packages (from breadability>=0.1.20->sumy) (4.0.0)\n",
            "Requirement already satisfied: lxml>=2.0 in /usr/local/lib/python3.9/dist-packages (from breadability>=0.1.20->sumy) (4.9.2)\n",
            "Requirement already satisfied: regex>=2021.8.3 in /usr/local/lib/python3.9/dist-packages (from nltk>=3.0.2->sumy) (2022.10.31)\n",
            "Requirement already satisfied: tqdm in /usr/local/lib/python3.9/dist-packages (from nltk>=3.0.2->sumy) (4.65.0)\n",
            "Requirement already satisfied: click in /usr/local/lib/python3.9/dist-packages (from nltk>=3.0.2->sumy) (8.1.3)\n",
            "Requirement already satisfied: joblib in /usr/local/lib/python3.9/dist-packages (from nltk>=3.0.2->sumy) (1.1.1)\n",
            "Requirement already satisfied: setuptools in /usr/local/lib/python3.9/dist-packages (from pycountry>=18.2.23->sumy) (67.6.1)\n",
            "Requirement already satisfied: charset-normalizer~=2.0.0 in /usr/local/lib/python3.9/dist-packages (from requests>=2.7.0->sumy) (2.0.12)\n",
            "Requirement already satisfied: certifi>=2017.4.17 in /usr/local/lib/python3.9/dist-packages (from requests>=2.7.0->sumy) (2022.12.7)\n",
            "Requirement already satisfied: urllib3<1.27,>=1.21.1 in /usr/local/lib/python3.9/dist-packages (from requests>=2.7.0->sumy) (1.26.15)\n",
            "Requirement already satisfied: idna<4,>=2.5 in /usr/local/lib/python3.9/dist-packages (from requests>=2.7.0->sumy) (3.4)\n"
          ]
        }
      ]
    },
    {
      "cell_type": "code",
      "source": [
        "parser = PlaintextParser.from_string(text,Tokenizer(\"english\"))"
      ],
      "metadata": {
        "id": "OWbgr52q0CVJ"
      },
      "execution_count": null,
      "outputs": []
    },
    {
      "cell_type": "code",
      "source": [
        "\n",
        "\n",
        "# For Strings\n",
        "\n",
        "\n",
        "\n",
        "# Summarize using sumy TextRank\n",
        "def text_rank(parser):\n",
        "  parser = PlaintextParser.from_string(text,Tokenizer(\"english\"))\n",
        "  summarizer = TextRankSummarizer()\n",
        "  summary =summarizer(parser.document,2)\n",
        "  text_summary=\"\"\n",
        "\n",
        "  for sentence in summary:\n",
        "    text_summary+=str(sentence)\n",
        "  return text_summary\n",
        "# print(text_summary)"
      ],
      "metadata": {
        "id": "1CTVJPH23faU"
      },
      "execution_count": null,
      "outputs": []
    },
    {
      "cell_type": "code",
      "source": [
        "final_df['text_rank'] = final_df['text'].apply(text_rank,parser)\n",
        "final_df"
      ],
      "metadata": {
        "colab": {
          "base_uri": "https://localhost:8080/",
          "height": 112
        },
        "id": "o2_PkXDvD2AT",
        "outputId": "9b0e6dc8-ea8d-4db5-bd46-3c388c235223"
      },
      "execution_count": null,
      "outputs": [
        {
          "output_type": "execute_result",
          "data": {
            "text/plain": [
              "                                                text  \\\n",
              "0  Multi-scale Community Detection in Temporal\\nN...   \n",
              "1  An Empirical Study of Usages, Updates and Risk...   \n",
              "\n",
              "                                            summ_per  \\\n",
              "0  Multi-scale Community Detection in Temporal\\nN...   \n",
              "1  An Empirical Study of Usages, Updates and Risk...   \n",
              "\n",
              "                                          summ_words  \\\n",
              "0  wavelets, a multi-scale community detection me...   \n",
              "1  12An Empirical Study of Usages, Updates and Ri...   \n",
              "\n",
              "                                           text_rank  \n",
              "0  0    Multi-scale Community Detection in Tempor...  \n",
              "1  0    Multi-scale Community Detection in Tempor...  "
            ],
            "text/html": [
              "\n",
              "  <div id=\"df-2ac192a0-3fac-4c6b-99bf-772541c31289\">\n",
              "    <div class=\"colab-df-container\">\n",
              "      <div>\n",
              "<style scoped>\n",
              "    .dataframe tbody tr th:only-of-type {\n",
              "        vertical-align: middle;\n",
              "    }\n",
              "\n",
              "    .dataframe tbody tr th {\n",
              "        vertical-align: top;\n",
              "    }\n",
              "\n",
              "    .dataframe thead th {\n",
              "        text-align: right;\n",
              "    }\n",
              "</style>\n",
              "<table border=\"1\" class=\"dataframe\">\n",
              "  <thead>\n",
              "    <tr style=\"text-align: right;\">\n",
              "      <th></th>\n",
              "      <th>text</th>\n",
              "      <th>summ_per</th>\n",
              "      <th>summ_words</th>\n",
              "      <th>text_rank</th>\n",
              "    </tr>\n",
              "  </thead>\n",
              "  <tbody>\n",
              "    <tr>\n",
              "      <th>0</th>\n",
              "      <td>Multi-scale Community Detection in Temporal\\nN...</td>\n",
              "      <td>Multi-scale Community Detection in Temporal\\nN...</td>\n",
              "      <td>wavelets, a multi-scale community detection me...</td>\n",
              "      <td>0    Multi-scale Community Detection in Tempor...</td>\n",
              "    </tr>\n",
              "    <tr>\n",
              "      <th>1</th>\n",
              "      <td>An Empirical Study of Usages, Updates and Risk...</td>\n",
              "      <td>An Empirical Study of Usages, Updates and Risk...</td>\n",
              "      <td>12An Empirical Study of Usages, Updates and Ri...</td>\n",
              "      <td>0    Multi-scale Community Detection in Tempor...</td>\n",
              "    </tr>\n",
              "  </tbody>\n",
              "</table>\n",
              "</div>\n",
              "      <button class=\"colab-df-convert\" onclick=\"convertToInteractive('df-2ac192a0-3fac-4c6b-99bf-772541c31289')\"\n",
              "              title=\"Convert this dataframe to an interactive table.\"\n",
              "              style=\"display:none;\">\n",
              "        \n",
              "  <svg xmlns=\"http://www.w3.org/2000/svg\" height=\"24px\"viewBox=\"0 0 24 24\"\n",
              "       width=\"24px\">\n",
              "    <path d=\"M0 0h24v24H0V0z\" fill=\"none\"/>\n",
              "    <path d=\"M18.56 5.44l.94 2.06.94-2.06 2.06-.94-2.06-.94-.94-2.06-.94 2.06-2.06.94zm-11 1L8.5 8.5l.94-2.06 2.06-.94-2.06-.94L8.5 2.5l-.94 2.06-2.06.94zm10 10l.94 2.06.94-2.06 2.06-.94-2.06-.94-.94-2.06-.94 2.06-2.06.94z\"/><path d=\"M17.41 7.96l-1.37-1.37c-.4-.4-.92-.59-1.43-.59-.52 0-1.04.2-1.43.59L10.3 9.45l-7.72 7.72c-.78.78-.78 2.05 0 2.83L4 21.41c.39.39.9.59 1.41.59.51 0 1.02-.2 1.41-.59l7.78-7.78 2.81-2.81c.8-.78.8-2.07 0-2.86zM5.41 20L4 18.59l7.72-7.72 1.47 1.35L5.41 20z\"/>\n",
              "  </svg>\n",
              "      </button>\n",
              "      \n",
              "  <style>\n",
              "    .colab-df-container {\n",
              "      display:flex;\n",
              "      flex-wrap:wrap;\n",
              "      gap: 12px;\n",
              "    }\n",
              "\n",
              "    .colab-df-convert {\n",
              "      background-color: #E8F0FE;\n",
              "      border: none;\n",
              "      border-radius: 50%;\n",
              "      cursor: pointer;\n",
              "      display: none;\n",
              "      fill: #1967D2;\n",
              "      height: 32px;\n",
              "      padding: 0 0 0 0;\n",
              "      width: 32px;\n",
              "    }\n",
              "\n",
              "    .colab-df-convert:hover {\n",
              "      background-color: #E2EBFA;\n",
              "      box-shadow: 0px 1px 2px rgba(60, 64, 67, 0.3), 0px 1px 3px 1px rgba(60, 64, 67, 0.15);\n",
              "      fill: #174EA6;\n",
              "    }\n",
              "\n",
              "    [theme=dark] .colab-df-convert {\n",
              "      background-color: #3B4455;\n",
              "      fill: #D2E3FC;\n",
              "    }\n",
              "\n",
              "    [theme=dark] .colab-df-convert:hover {\n",
              "      background-color: #434B5C;\n",
              "      box-shadow: 0px 1px 3px 1px rgba(0, 0, 0, 0.15);\n",
              "      filter: drop-shadow(0px 1px 2px rgba(0, 0, 0, 0.3));\n",
              "      fill: #FFFFFF;\n",
              "    }\n",
              "  </style>\n",
              "\n",
              "      <script>\n",
              "        const buttonEl =\n",
              "          document.querySelector('#df-2ac192a0-3fac-4c6b-99bf-772541c31289 button.colab-df-convert');\n",
              "        buttonEl.style.display =\n",
              "          google.colab.kernel.accessAllowed ? 'block' : 'none';\n",
              "\n",
              "        async function convertToInteractive(key) {\n",
              "          const element = document.querySelector('#df-2ac192a0-3fac-4c6b-99bf-772541c31289');\n",
              "          const dataTable =\n",
              "            await google.colab.kernel.invokeFunction('convertToInteractive',\n",
              "                                                     [key], {});\n",
              "          if (!dataTable) return;\n",
              "\n",
              "          const docLinkHtml = 'Like what you see? Visit the ' +\n",
              "            '<a target=\"_blank\" href=https://colab.research.google.com/notebooks/data_table.ipynb>data table notebook</a>'\n",
              "            + ' to learn more about interactive tables.';\n",
              "          element.innerHTML = '';\n",
              "          dataTable['output_type'] = 'display_data';\n",
              "          await google.colab.output.renderOutput(dataTable, element);\n",
              "          const docLink = document.createElement('div');\n",
              "          docLink.innerHTML = docLinkHtml;\n",
              "          element.appendChild(docLink);\n",
              "        }\n",
              "      </script>\n",
              "    </div>\n",
              "  </div>\n",
              "  "
            ]
          },
          "metadata": {},
          "execution_count": 63
        }
      ]
    },
    {
      "cell_type": "code",
      "source": [
        "def lsa_summ(parser):\n",
        "  summarizer_lsa = LsaSummarizer()\n",
        "\n",
        "# Summarize using sumy LSA\n",
        "  summary =summarizer_lsa(parser.document,2)\n",
        "  lsa_summary=\"\"\n",
        "  for sentence in summary:\n",
        "    lsa_summary+=str(sentence)\n",
        "  return lsa_summary\n",
        "# print(lsa_summary)"
      ],
      "metadata": {
        "id": "IW6D1EVXF46S"
      },
      "execution_count": null,
      "outputs": []
    },
    {
      "cell_type": "code",
      "source": [
        "final_df['lsa_summary'] = final_df['text'].apply(lsa_summ,parser)\n",
        "final_df"
      ],
      "metadata": {
        "id": "M04821e1qnfQ"
      },
      "execution_count": null,
      "outputs": []
    },
    {
      "cell_type": "code",
      "source": [
        "def lex_rank(parser):\n",
        "  summarizer_lex = LexRankSummarizer()\n",
        "\n",
        "# Summarize using sumy LexRank\n",
        "  summary= summarizer_lex(parser.document, 2)\n",
        "  lex_summary=\"\"\n",
        "  for sentence in summary:\n",
        "    lex_summary+=str(sentence)\n",
        "# print(lex_summary)\n",
        "  return lex_summary\n",
        "\n",
        "# print(text_summary)"
      ],
      "metadata": {
        "id": "fX4dFQirpWVa"
      },
      "execution_count": null,
      "outputs": []
    },
    {
      "cell_type": "code",
      "source": [
        "final_df['lex_summary'] = final_df['text'].apply(lex_rank,parser)\n",
        "final_df"
      ],
      "metadata": {
        "id": "12g2PM0qq620"
      },
      "execution_count": null,
      "outputs": []
    },
    {
      "cell_type": "code",
      "source": [
        "def luhn(parser):\n",
        "  summarizer_1 = LuhnSummarizer()\n",
        "  summary_1 =summarizer_1(parser.document,2)\n",
        "  summary=\"\"\n",
        "  for sentence in summary_1:\n",
        "    summary+=str(sentence)\n",
        "  return summary"
      ],
      "metadata": {
        "id": "fsdwUXQoqCGR"
      },
      "execution_count": null,
      "outputs": []
    },
    {
      "cell_type": "code",
      "source": [
        "final_df['luhn_summary'] = final_df['text'].apply(luhn,parser)\n",
        "final_df"
      ],
      "metadata": {
        "id": "T5S6KG4EtlN5"
      },
      "execution_count": null,
      "outputs": []
    },
    {
      "cell_type": "code",
      "source": [
        "path ='/content/drive/MyDrive/test.txt'"
      ],
      "metadata": {
        "id": "J5NWy3wIvXnw"
      },
      "execution_count": null,
      "outputs": []
    },
    {
      "cell_type": "code",
      "source": [
        "with open('/content/drive/MyDrive/test.txt') as f:\n",
        "    lines = f.readlines()\n",
        "type(lines[0])"
      ],
      "metadata": {
        "colab": {
          "base_uri": "https://localhost:8080/"
        },
        "id": "aMppS4rwDTTm",
        "outputId": "5165bc6a-8586-4cec-f60d-044f4c29af1a"
      },
      "execution_count": null,
      "outputs": [
        {
          "output_type": "execute_result",
          "data": {
            "text/plain": [
              "str"
            ]
          },
          "metadata": {},
          "execution_count": 50
        }
      ]
    },
    {
      "cell_type": "code",
      "source": [
        "# s=lines[1:-1]\n",
        "# l=s.split(\"},{\")\n",
        "for i in lines:\n",
        "  print(i)\n",
        "  break"
      ],
      "metadata": {
        "colab": {
          "base_uri": "https://localhost:8080/"
        },
        "id": "xvErFOBEDf2-",
        "outputId": "8e1402e4-63e3-4379-a7d2-8a458cdae3c0"
      },
      "execution_count": null,
      "outputs": [
        {
          "output_type": "stream",
          "name": "stdout",
          "text": [
            "{\"article_id\": \"PMC5075302\", \"article_text\": [\"anxiety affects quality of life in those living with parkinson 's disease ( pd ) more so than overall cognitive status , motor deficits , apathy , and depression [ 13 ] .\", \"although anxiety and depression are often related and coexist in pd patients , recent research suggests that anxiety rather than depression is the most prominent and prevalent mood disorder in pd [ 5 , 6 ] . yet ,\", \"our current understanding of anxiety and its impact on cognition in pd , as well as its neural basis and best treatment practices , remains meager and lags far behind that of depression .\", \"overall , neuropsychiatric symptoms in pd have been shown to be negatively associated with cognitive performance .\", \"for example , higher depression scores have been correlated with lower scores on the mini - mental state exam ( mmse ) [ 8 , 9 ] as well as tests of memory and executive functions ( e.g. , attention ) [ 1014 ] .\", \"likewise , apathy and anhedonia in pd patients have been associated with executive dysfunction [ 10 , 1523 ] .\", \"however , few studies have specifically investigated the relationship between anxiety and cognition in pd .\", \"one study showed a strong negative relationship between anxiety ( both state and trait ) and overall cognitive performance ( measured by the total of the repeatable battery for the assessment of neuropsychological status index ) within a sample of 27 pd patients .\", \"furthermore , trait anxiety was negatively associated with each of the cognitive domains assessed by the rbans ( i.e. , immediate memory , visuospatial construction , language , attention , and delayed memory ) .\", \"two further studies have examined whether anxiety differentially affects cognition in patients with left - sided dominant pd ( lpd ) versus right - sided dominant pd ( rpd ) ; however , their findings were inconsistent .\", \"the first study found that working memory performance was worse in lpd patients with anxiety compared to rpd patients with anxiety , whereas the second study reported that , in lpd , apathy but not anxiety was associated with performance on nonverbally mediated executive functions and visuospatial tasks ( e.g. , tmt - b , wms - iii spatial span ) , while in rpd , anxiety but not apathy significantly correlated with performance on verbally mediated tasks ( e.g. , clock reading test and boston naming test ) .\", \"furthermore , anxiety was significantly correlated with neuropsychological measures of attention and executive and visuospatial functions . taken together ,\", \"it is evident that there are limited and inconsistent findings describing the relationship between anxiety and cognition in pd and more specifically how anxiety might influence particular domains of cognition such as attention and memory and executive functioning .\", \"it is also striking that , to date , no study has examined the influence of anxiety on cognition in pd by directly comparing groups of pd patients with and without anxiety while excluding depression .\", \"given that research on healthy young adults suggests that anxiety reduces processing capacity and impairs processing efficiency , especially in the central executive and attentional systems of working memory [ 26 , 27 ] , we hypothesized that pd patients with anxiety would show impairments in attentional set - shifting and working memory compared to pd patients without anxiety .\", \"furthermore , since previous work , albeit limited , has focused on the influence of symptom laterality on anxiety and cognition , we also explored this relationship .\", \"seventeen pd patients with anxiety and thirty - three pd patients without anxiety were included in this study ( see table 1 ) .\", \"the cross - sectional data from these participants was taken from a patient database that has been compiled over the past 8 years ( since 2008 ) at the parkinson 's disease research clinic at the brain and mind centre , university of sydney .\", \"inclusion criteria involved a diagnosis of idiopathic pd according to the united kingdom parkinson 's disease society brain bank criteria   and were confirmed by a neurologist ( sjgl ) .\", \"patients also had to have an adequate proficiency in english and have completed a full neuropsychological assessment .\", \"ten patients in this study ( 5 pd with anxiety ; 5 pd without anxiety ) were taking psychotropic drugs ( i.e. , benzodiazepine or selective serotonin reuptake inhibitor ) .\", \"patients were also excluded if they had other neurological disorders , psychiatric disorders other than affective disorders ( such as anxiety ) , or if they reported a score greater than six on the depression subscale of the hospital anxiety and depression scale ( hads ) .\", \"thus , all participants who scored within a  depressed  ( hads - d > 6 ) range were excluded from this study , in attempt to examine a refined sample of pd patients with and without anxiety in order to determine the independent effect of anxiety on cognition .\", \"this research was approved by the human research ethics committee of the university of sydney , and written informed consent was obtained from all participants .\", \"self - reported hads was used to assess anxiety in pd and has been previously shown to be a useful measure of clinical anxiety in pd .\", \"a cut - off score of > 8 on the anxiety subscale of the hads ( hads - a ) was used to identify pd cases with anxiety ( pda+ ) , while a cut - off score of < 6 on the hads - a was used to identify pd cases without anxiety ( pda ) .\", \"this criterion was more stringent than usual ( > 7 cut - off score ) , in effort to create distinct patient groups .\", \"the neurological evaluation rated participants according to hoehn and yahr ( h&y ) stages   and assessed their motor symptoms using part iii of the revised mds task force unified parkinson 's disease rating scale ( updrs ) . in a similar way\", \"this was determined by calculating a total left and right score from rigidity items 3035 , voluntary movement items 3643 , and tremor items 5057 from the mds - updrs part iii ( see table 1 ) .\", \"processing speed was assessed using the trail making test , part a ( tmt - a , z - score ) .\", \"attentional set - shifting was measured using the trail making test , part b ( tmt - b , z - score ) .\", \"working memory was assessed using the digit span forward and backward subtest of the wechsler memory scale - iii ( raw scores ) .\", \"language was assessed with semantic and phonemic verbal fluency via the controlled oral word associated test ( cowat animals and letters , z - score ) .\", \"the ability to retain learned verbal memory was assessed using the logical memory subtest from the wechsler memory scale - iii ( lm - i z - score , lm - ii z - score , % lm retention z - score ) . the mini - mental state examination ( mmse )\", \"demographic , clinical , and neuropsychological variables were compared between the two groups with the independent t - test or mann  whitney u test , depending on whether the variable met parametric assumptions .\", \"chi - square tests were used to examine gender and symptom laterality differences between groups .\", \"all analyses employed an alpha level of p < 0.05 and were two - tailed .\", \"spearman correlations were performed separately in each group to examine associations between anxiety and/or depression ratings and cognitive functions .\", \"as expected , the pda+ group reported significant greater levels of anxiety on the hads - a ( u = 0 , p < 0.001 ) and higher total score on the hads ( u = 1 , p < 0.001 ) compared to the pda group ( table 1 ) .\", \"groups were matched in age ( t(48 ) = 1.31 , p = 0.20 ) , disease duration ( u = 259 , p = 0.66 ) , updrs - iii score ( u = 250.5 , p = 0.65 ) , h&y ( u = 245 , p = 0.43 ) , ledd ( u = 159.5 , p = 0.80 ) , and depression ( hads - d ) ( u = 190.5 , p = 0.06 ) .\", \"additionally , all groups were matched in the distribution of gender (  = 0.098 , p = 0.75 ) and side - affected (  = 0.765 , p = 0.38 ) .\", \"there were no group differences for tmt - a performance ( u = 256 , p = 0.62 ) ( table 2 ) ; however , the pda+ group had worse performance on the trail making test part b ( t(46 ) = 2.03 , p = 0.048 ) compared to the pda group ( figure 1 ) .\", \"the pda+ group also demonstrated significantly worse performance on the digit span forward subtest ( t(48 ) = 2.22 , p = 0.031 ) and backward subtest ( u = 190.5 , p = 0.016 ) compared to the pda group ( figures 2(a ) and 2(b ) ) .\", \"neither semantic verbal fluency ( t(47 ) = 0.70 , p = 0.49 ) nor phonemic verbal fluency ( t(47 ) = 0.39 , p = 0.70 ) differed between groups .\", \"logical memory i immediate recall test ( u = 176 , p = 0.059 ) showed a trend that the pda+ group had worse new verbal learning and immediate recall abilities than the pda group . however , logical memory ii test performance ( u = 219 , p = 0.204 ) and logical memory % retention ( u = 242.5 , p = 0.434 ) did not differ between groups .\", \"there were also no differences between groups in global cognition ( mmse ) ( u = 222.5 , p = 0.23 ) .\", \"participants were split into lpd and rpd , and then further group differences were examined between pda+ and pda. importantly , the groups remained matched in age , disease duration , updrs - iii , dde , h&y stage , and depression but remained significantly different on self - reported anxiety .\", \"lpda+ demonstrated worse performance on the digit span forward test ( t(19 ) = 2.29 , p = 0.033 ) compared to lpda , whereas rpda+ demonstrated worse performance on the digit span backward test ( u = 36.5 , p = 0.006 ) , lm - i immediate recall ( u = 37.5 , p = 0.008 ) , and lm - ii ( u = 45.0 , p = 0.021 ) but not lm % retention ( u = 75.5 , p = 0.39 ) compared to rpda.\", \"this study is the first to directly compare cognition between pd patients with and without anxiety .\", \"the findings confirmed our hypothesis that anxiety negatively influences attentional set - shifting and working memory in pd .\", \"more specifically , we found that pd patients with anxiety were more impaired on the trail making test part b which assessed attentional set - shifting , on both digit span tests which assessed working memory and attention , and to a lesser extent on the logical memory test which assessed memory and new verbal learning compared to pd patients without anxiety . taken together ,\", \"these findings suggest that anxiety in pd may reduce processing capacity and impair processing efficiency , especially in the central executive and attentional systems of working memory in a similar way as seen in young healthy adults [ 26 , 27 ] .\", \"although the neurobiology of anxiety in pd remains unknown , many researchers have postulated that anxiety disorders are related to neurochemical changes that occur during the early , premotor stages of pd - related degeneration [ 37 , 38 ] such as nigrostriatal dopamine depletion , as well as cell loss within serotonergic and noradrenergic brainstem nuclei ( i.e. , raphe nuclei and locus coeruleus , resp . , which provide massive inputs to corticolimbic regions ) . over time\", \", chronic dysregulation of adrenocortical and catecholamine functions can lead to hippocampal damage as well as dysfunctional prefrontal neural circuitries [ 39 , 40 ] , which play a key role in memory and attention .\", \"recent functional neuroimaging work has suggested that enhanced hippocampal activation during executive functioning and working memory tasks may represent compensatory processes for impaired frontostriatal functions in pd patients compared to controls . therefore , chronic stress from anxiety ,\", \"for example , may disrupt compensatory processes in pd patients and explain the cognitive impairments specifically in working memory and attention seen in pd patients with anxiety .\", \"it has also been suggested that hyperactivation within the putamen may reflect a compensatory striatal mechanism to maintain normal working memory performance in pd patients ; however , losing this compensatory activation has been shown to contribute to poor working memory performance .\", \"anxiety in mild pd has been linked to reduced putamen dopamine uptake which becomes more extensive as the disease progresses .\", \"this further supports the notion that anxiety may disrupt compensatory striatal mechanisms as well , providing another possible explanation for the cognitive impairments observed in pd patients with anxiety in this study .\", \"noradrenergic and serotonergic systems should also be considered when trying to explain the mechanisms by which anxiety may influence cognition in pd . although these neurotransmitter systems are relatively understudied in pd cognition , treating the noradrenergic and serotonergic systems has shown beneficial effects on cognition in pd .\", \"selective serotonin reuptake inhibitor , citalopram , was shown to improve response inhibition deficits in pd , while noradrenaline reuptake blocker , atomoxetine , has been recently reported to have promising effects on cognition in pd [ 45 , 46 ] .\", \"overall , very few neuroimaging studies have been conducted in pd in order to understand the neural correlates of pd anxiety and its underlying neural pathology .\", \"future research should focus on relating anatomical changes and neurochemical changes to neural activation in order to gain a clearer understanding on how these pathologies affect anxiety in pd . to further understand how anxiety and cognitive dysfunction are related ,\", \"future research should focus on using advanced structural and function imaging techniques to explain both cognitive and neural breakdowns that are associated with anxiety in pd patients .\", \"research has indicated that those with amnestic mild cognitive impairment who have more neuropsychiatric symptoms have a greater risk of developing dementia compared to those with fewer neuropsychiatric symptoms .\", \"future studies should also examine whether treating neuropsychiatric symptoms might impact the progression of cognitive decline and improve cognitive impairments in pd patients .\", \"previous studies have used pd symptom laterality as a window to infer asymmetrical dysfunction of neural circuits .\", \"for example , lpd patients have greater inferred right hemisphere pathology , whereas rpd patients have greater inferred left hemisphere pathology .\", \"thus , cognitive domains predominantly subserved by the left hemisphere ( e.g. , verbally mediated tasks of executive function and verbal memory ) might be hypothesized to be more affected in rpd than lpd ; however , this remains controversial .\", \"it has also been suggested that since anxiety is a common feature of left hemisphere involvement [ 48 , 49 ] , cognitive domains subserved by the left hemisphere may also be more strongly related to anxiety .\", \"results from this study showed selective verbal memory deficits in rpd patients with anxiety compared to rpd without anxiety , whereas lpd patients with anxiety had greater attentional / working memory deficits compared to lpd without anxiety .\", \"although these results align with previous research , interpretations of these findings should be made with caution due to the small sample size in the lpd comparison specifically .\", \"recent work has suggested that the hads questionnaire may underestimate the burden of anxiety related symptomology and therefore be a less sensitive measure of anxiety in pd [ 30 , 50 ] . in addition , our small sample size also limited the statistical power for detecting significant findings .\", \"based on these limitations , our findings are likely conservative and underrepresent the true impact anxiety has on cognition in pd . additionally , the current study employed a very brief neuropsychological assessment including one or two tests for each cognitive domain .\", \"future studies are encouraged to collect a more complex and comprehensive battery from a larger sample of pd participants in order to better understand the role anxiety plays on cognition in pd .\", \"another limitation of this study was the absence of diagnostic interviews to characterize participants ' psychiatric symptoms and specify the type of anxiety disorders included in this study .\", \"future studies should perform diagnostic interviews with participants ( e.g. , using dsm - v criteria ) rather than relying on self - reported measures to group participants , in order to better understand whether the type of anxiety disorder ( e.g. , social anxiety , phobias , panic disorders , and generalized anxiety ) influences cognitive performance differently in pd .\", \"one advantage the hads questionnaire provided over other anxiety scales was that it assessed both anxiety and depression simultaneously and allowed us to control for coexisting depression .\", \"although there was a trend that the pda+ group self - reported higher levels of depression than the pda group , all participants included in the study scored < 6 on the depression subscale of the hads .\", \"controlling for depression while assessing anxiety has been identified as a key shortcoming in the majority of recent work .\", \"considering many previous studies have investigated the influence of depression on cognition in pd without accounting for the presence of anxiety and the inconsistent findings reported to date , we recommend that future research should try to disentangle the influence of anxiety versus depression on cognitive impairments in pd . considering the growing number of clinical trials for treating depression , there are few if any for the treatment of anxiety in pd .\", \"anxiety is a key contributor to decreased quality of life in pd and greatly requires better treatment options .\", \"moreover , anxiety has been suggested to play a key role in freezing of gait ( fog ) , which is also related to attentional set - shifting [ 52 , 53 ] .\", \"future research should examine the link between anxiety , set - shifting , and fog , in order to determine whether treating anxiety might be a potential therapy for improving fog .\"], \"abstract_text\": [\"<S> research on the implications of anxiety in parkinson 's disease ( pd ) has been neglected despite its prevalence in nearly 50% of patients and its negative impact on quality of life . </S>\", \"<S> previous reports have noted that neuropsychiatric symptoms impair cognitive performance in pd patients ; however , to date , no study has directly compared pd patients with and without anxiety to examine the impact of anxiety on cognitive impairments in pd . </S>\", \"<S> this study compared cognitive performance across 50 pd participants with and without anxiety ( 17 pda+ ; 33 pda ) , who underwent neurological and neuropsychological assessment . </S>\", \"<S> group performance was compared across the following cognitive domains : simple attention / visuomotor processing speed , executive function ( e.g. , set - shifting ) , working memory , language , and memory / new verbal learning . </S>\", \"<S> results showed that pda+ performed significantly worse on the digit span forward and backward test and part b of the trail making task ( tmt - b ) compared to the pda group . </S>\", \"<S> there were no group differences in verbal fluency , logical memory , or tmt - a performance . in conclusion , </S>\", \"<S> anxiety in pd has a measurable impact on working memory and attentional set - shifting . </S>\"], \"labels\": null, \"section_names\": [\"1. Introduction\", \"2. Methods\", \"3. Results\", \"4. Discussion\"], \"sections\": [[\"anxiety affects quality of life in those living with parkinson 's disease ( pd ) more so than overall cognitive status , motor deficits , apathy , and depression [ 13 ] .\", \"although anxiety and depression are often related and coexist in pd patients , recent research suggests that anxiety rather than depression is the most prominent and prevalent mood disorder in pd [ 5 , 6 ] . yet ,\", \"our current understanding of anxiety and its impact on cognition in pd , as well as its neural basis and best treatment practices , remains meager and lags far behind that of depression .\", \"overall , neuropsychiatric symptoms in pd have been shown to be negatively associated with cognitive performance .\", \"for example , higher depression scores have been correlated with lower scores on the mini - mental state exam ( mmse ) [ 8 , 9 ] as well as tests of memory and executive functions ( e.g. , attention ) [ 1014 ] .\", \"likewise , apathy and anhedonia in pd patients have been associated with executive dysfunction [ 10 , 1523 ] .\", \"however , few studies have specifically investigated the relationship between anxiety and cognition in pd .\", \"one study showed a strong negative relationship between anxiety ( both state and trait ) and overall cognitive performance ( measured by the total of the repeatable battery for the assessment of neuropsychological status index ) within a sample of 27 pd patients .\", \"furthermore , trait anxiety was negatively associated with each of the cognitive domains assessed by the rbans ( i.e. , immediate memory , visuospatial construction , language , attention , and delayed memory ) .\", \"two further studies have examined whether anxiety differentially affects cognition in patients with left - sided dominant pd ( lpd ) versus right - sided dominant pd ( rpd ) ; however , their findings were inconsistent .\", \"the first study found that working memory performance was worse in lpd patients with anxiety compared to rpd patients with anxiety , whereas the second study reported that , in lpd , apathy but not anxiety was associated with performance on nonverbally mediated executive functions and visuospatial tasks ( e.g. , tmt - b , wms - iii spatial span ) , while in rpd , anxiety but not apathy significantly correlated with performance on verbally mediated tasks ( e.g. , clock reading test and boston naming test ) .\", \"furthermore , anxiety was significantly correlated with neuropsychological measures of attention and executive and visuospatial functions . taken together ,\", \"it is evident that there are limited and inconsistent findings describing the relationship between anxiety and cognition in pd and more specifically how anxiety might influence particular domains of cognition such as attention and memory and executive functioning .\", \"it is also striking that , to date , no study has examined the influence of anxiety on cognition in pd by directly comparing groups of pd patients with and without anxiety while excluding depression .\", \"given that research on healthy young adults suggests that anxiety reduces processing capacity and impairs processing efficiency , especially in the central executive and attentional systems of working memory [ 26 , 27 ] , we hypothesized that pd patients with anxiety would show impairments in attentional set - shifting and working memory compared to pd patients without anxiety .\", \"furthermore , since previous work , albeit limited , has focused on the influence of symptom laterality on anxiety and cognition , we also explored this relationship .\"], [\"seventeen pd patients with anxiety and thirty - three pd patients without anxiety were included in this study ( see table 1 ) .\", \"the cross - sectional data from these participants was taken from a patient database that has been compiled over the past 8 years ( since 2008 ) at the parkinson 's disease research clinic at the brain and mind centre , university of sydney .\", \"inclusion criteria involved a diagnosis of idiopathic pd according to the united kingdom parkinson 's disease society brain bank criteria   and were confirmed by a neurologist ( sjgl ) .\", \"patients also had to have an adequate proficiency in english and have completed a full neuropsychological assessment .\", \"ten patients in this study ( 5 pd with anxiety ; 5 pd without anxiety ) were taking psychotropic drugs ( i.e. , benzodiazepine or selective serotonin reuptake inhibitor ) .\", \"patients were also excluded if they had other neurological disorders , psychiatric disorders other than affective disorders ( such as anxiety ) , or if they reported a score greater than six on the depression subscale of the hospital anxiety and depression scale ( hads ) .\", \"thus , all participants who scored within a  depressed  ( hads - d > 6 ) range were excluded from this study , in attempt to examine a refined sample of pd patients with and without anxiety in order to determine the independent effect of anxiety on cognition .\", \"this research was approved by the human research ethics committee of the university of sydney , and written informed consent was obtained from all participants .\", \"self - reported hads was used to assess anxiety in pd and has been previously shown to be a useful measure of clinical anxiety in pd .\", \"a cut - off score of > 8 on the anxiety subscale of the hads ( hads - a ) was used to identify pd cases with anxiety ( pda+ ) , while a cut - off score of < 6 on the hads - a was used to identify pd cases without anxiety ( pda ) .\", \"this criterion was more stringent than usual ( > 7 cut - off score ) , in effort to create distinct patient groups .\", \"the neurological evaluation rated participants according to hoehn and yahr ( h&y ) stages   and assessed their motor symptoms using part iii of the revised mds task force unified parkinson 's disease rating scale ( updrs ) . in a similar way\", \"this was determined by calculating a total left and right score from rigidity items 3035 , voluntary movement items 3643 , and tremor items 5057 from the mds - updrs part iii ( see table 1 ) .\", \"processing speed was assessed using the trail making test , part a ( tmt - a , z - score ) .\", \"attentional set - shifting was measured using the trail making test , part b ( tmt - b , z - score ) .\", \"working memory was assessed using the digit span forward and backward subtest of the wechsler memory scale - iii ( raw scores ) .\", \"language was assessed with semantic and phonemic verbal fluency via the controlled oral word associated test ( cowat animals and letters , z - score ) .\", \"the ability to retain learned verbal memory was assessed using the logical memory subtest from the wechsler memory scale - iii ( lm - i z - score , lm - ii z - score , % lm retention z - score ) . the mini - mental state examination ( mmse )\", \"demographic , clinical , and neuropsychological variables were compared between the two groups with the independent t - test or mann  whitney u test , depending on whether the variable met parametric assumptions .\", \"chi - square tests were used to examine gender and symptom laterality differences between groups .\", \"all analyses employed an alpha level of p < 0.05 and were two - tailed .\", \"spearman correlations were performed separately in each group to examine associations between anxiety and/or depression ratings and cognitive functions .\"], [\"as expected , the pda+ group reported significant greater levels of anxiety on the hads - a ( u = 0 , p < 0.001 ) and higher total score on the hads ( u = 1 , p < 0.001 ) compared to the pda group ( table 1 ) .\", \"groups were matched in age ( t(48 ) = 1.31 , p = 0.20 ) , disease duration ( u = 259 , p = 0.66 ) , updrs - iii score ( u = 250.5 , p = 0.65 ) , h&y ( u = 245 , p = 0.43 ) , ledd ( u = 159.5 , p = 0.80 ) , and depression ( hads - d ) ( u = 190.5 , p = 0.06 ) .\", \"additionally , all groups were matched in the distribution of gender (  = 0.098 , p = 0.75 ) and side - affected (  = 0.765 , p = 0.38 ) .\", \"there were no group differences for tmt - a performance ( u = 256 , p = 0.62 ) ( table 2 ) ; however , the pda+ group had worse performance on the trail making test part b ( t(46 ) = 2.03 , p = 0.048 ) compared to the pda group ( figure 1 ) .\", \"the pda+ group also demonstrated significantly worse performance on the digit span forward subtest ( t(48 ) = 2.22 , p = 0.031 ) and backward subtest ( u = 190.5 , p = 0.016 ) compared to the pda group ( figures 2(a ) and 2(b ) ) .\", \"neither semantic verbal fluency ( t(47 ) = 0.70 , p = 0.49 ) nor phonemic verbal fluency ( t(47 ) = 0.39 , p = 0.70 ) differed between groups .\", \"logical memory i immediate recall test ( u = 176 , p = 0.059 ) showed a trend that the pda+ group had worse new verbal learning and immediate recall abilities than the pda group . however , logical memory ii test performance ( u = 219 , p = 0.204 ) and logical memory % retention ( u = 242.5 , p = 0.434 ) did not differ between groups .\", \"there were also no differences between groups in global cognition ( mmse ) ( u = 222.5 , p = 0.23 ) .\", \"participants were split into lpd and rpd , and then further group differences were examined between pda+ and pda. importantly , the groups remained matched in age , disease duration , updrs - iii , dde , h&y stage , and depression but remained significantly different on self - reported anxiety .\", \"lpda+ demonstrated worse performance on the digit span forward test ( t(19 ) = 2.29 , p = 0.033 ) compared to lpda , whereas rpda+ demonstrated worse performance on the digit span backward test ( u = 36.5 , p = 0.006 ) , lm - i immediate recall ( u = 37.5 , p = 0.008 ) , and lm - ii ( u = 45.0 , p = 0.021 ) but not lm % retention ( u = 75.5 , p = 0.39 ) compared to rpda.\"], [\"this study is the first to directly compare cognition between pd patients with and without anxiety .\", \"the findings confirmed our hypothesis that anxiety negatively influences attentional set - shifting and working memory in pd .\", \"more specifically , we found that pd patients with anxiety were more impaired on the trail making test part b which assessed attentional set - shifting , on both digit span tests which assessed working memory and attention , and to a lesser extent on the logical memory test which assessed memory and new verbal learning compared to pd patients without anxiety . taken together ,\", \"these findings suggest that anxiety in pd may reduce processing capacity and impair processing efficiency , especially in the central executive and attentional systems of working memory in a similar way as seen in young healthy adults [ 26 , 27 ] .\", \"although the neurobiology of anxiety in pd remains unknown , many researchers have postulated that anxiety disorders are related to neurochemical changes that occur during the early , premotor stages of pd - related degeneration [ 37 , 38 ] such as nigrostriatal dopamine depletion , as well as cell loss within serotonergic and noradrenergic brainstem nuclei ( i.e. , raphe nuclei and locus coeruleus , resp . , which provide massive inputs to corticolimbic regions ) . over time\", \", chronic dysregulation of adrenocortical and catecholamine functions can lead to hippocampal damage as well as dysfunctional prefrontal neural circuitries [ 39 , 40 ] , which play a key role in memory and attention .\", \"recent functional neuroimaging work has suggested that enhanced hippocampal activation during executive functioning and working memory tasks may represent compensatory processes for impaired frontostriatal functions in pd patients compared to controls . therefore , chronic stress from anxiety ,\", \"for example , may disrupt compensatory processes in pd patients and explain the cognitive impairments specifically in working memory and attention seen in pd patients with anxiety .\", \"it has also been suggested that hyperactivation within the putamen may reflect a compensatory striatal mechanism to maintain normal working memory performance in pd patients ; however , losing this compensatory activation has been shown to contribute to poor working memory performance .\", \"anxiety in mild pd has been linked to reduced putamen dopamine uptake which becomes more extensive as the disease progresses .\", \"this further supports the notion that anxiety may disrupt compensatory striatal mechanisms as well , providing another possible explanation for the cognitive impairments observed in pd patients with anxiety in this study .\", \"noradrenergic and serotonergic systems should also be considered when trying to explain the mechanisms by which anxiety may influence cognition in pd . although these neurotransmitter systems are relatively understudied in pd cognition , treating the noradrenergic and serotonergic systems has shown beneficial effects on cognition in pd .\", \"selective serotonin reuptake inhibitor , citalopram , was shown to improve response inhibition deficits in pd , while noradrenaline reuptake blocker , atomoxetine , has been recently reported to have promising effects on cognition in pd [ 45 , 46 ] .\", \"overall , very few neuroimaging studies have been conducted in pd in order to understand the neural correlates of pd anxiety and its underlying neural pathology .\", \"future research should focus on relating anatomical changes and neurochemical changes to neural activation in order to gain a clearer understanding on how these pathologies affect anxiety in pd . to further understand how anxiety and cognitive dysfunction are related ,\", \"future research should focus on using advanced structural and function imaging techniques to explain both cognitive and neural breakdowns that are associated with anxiety in pd patients .\", \"research has indicated that those with amnestic mild cognitive impairment who have more neuropsychiatric symptoms have a greater risk of developing dementia compared to those with fewer neuropsychiatric symptoms .\", \"future studies should also examine whether treating neuropsychiatric symptoms might impact the progression of cognitive decline and improve cognitive impairments in pd patients .\", \"previous studies have used pd symptom laterality as a window to infer asymmetrical dysfunction of neural circuits .\", \"for example , lpd patients have greater inferred right hemisphere pathology , whereas rpd patients have greater inferred left hemisphere pathology .\", \"thus , cognitive domains predominantly subserved by the left hemisphere ( e.g. , verbally mediated tasks of executive function and verbal memory ) might be hypothesized to be more affected in rpd than lpd ; however , this remains controversial .\", \"it has also been suggested that since anxiety is a common feature of left hemisphere involvement [ 48 , 49 ] , cognitive domains subserved by the left hemisphere may also be more strongly related to anxiety .\", \"results from this study showed selective verbal memory deficits in rpd patients with anxiety compared to rpd without anxiety , whereas lpd patients with anxiety had greater attentional / working memory deficits compared to lpd without anxiety .\", \"although these results align with previous research , interpretations of these findings should be made with caution due to the small sample size in the lpd comparison specifically .\", \"recent work has suggested that the hads questionnaire may underestimate the burden of anxiety related symptomology and therefore be a less sensitive measure of anxiety in pd [ 30 , 50 ] . in addition , our small sample size also limited the statistical power for detecting significant findings .\", \"based on these limitations , our findings are likely conservative and underrepresent the true impact anxiety has on cognition in pd . additionally , the current study employed a very brief neuropsychological assessment including one or two tests for each cognitive domain .\", \"future studies are encouraged to collect a more complex and comprehensive battery from a larger sample of pd participants in order to better understand the role anxiety plays on cognition in pd .\", \"another limitation of this study was the absence of diagnostic interviews to characterize participants ' psychiatric symptoms and specify the type of anxiety disorders included in this study .\", \"future studies should perform diagnostic interviews with participants ( e.g. , using dsm - v criteria ) rather than relying on self - reported measures to group participants , in order to better understand whether the type of anxiety disorder ( e.g. , social anxiety , phobias , panic disorders , and generalized anxiety ) influences cognitive performance differently in pd .\", \"one advantage the hads questionnaire provided over other anxiety scales was that it assessed both anxiety and depression simultaneously and allowed us to control for coexisting depression .\", \"although there was a trend that the pda+ group self - reported higher levels of depression than the pda group , all participants included in the study scored < 6 on the depression subscale of the hads .\", \"controlling for depression while assessing anxiety has been identified as a key shortcoming in the majority of recent work .\", \"considering many previous studies have investigated the influence of depression on cognition in pd without accounting for the presence of anxiety and the inconsistent findings reported to date , we recommend that future research should try to disentangle the influence of anxiety versus depression on cognitive impairments in pd . considering the growing number of clinical trials for treating depression , there are few if any for the treatment of anxiety in pd .\", \"anxiety is a key contributor to decreased quality of life in pd and greatly requires better treatment options .\", \"moreover , anxiety has been suggested to play a key role in freezing of gait ( fog ) , which is also related to attentional set - shifting [ 52 , 53 ] .\", \"future research should examine the link between anxiety , set - shifting , and fog , in order to determine whether treating anxiety might be a potential therapy for improving fog .\"]]}\n",
            "\n"
          ]
        }
      ]
    },
    {
      "cell_type": "code",
      "source": [
        "test = pd.DataFrame(lines)\n",
        "test.head()\n",
        "type(test)"
      ],
      "metadata": {
        "colab": {
          "base_uri": "https://localhost:8080/"
        },
        "id": "7s5IzGPdEYLb",
        "outputId": "68cf68ef-2403-4d84-a234-d7606f720ba6"
      },
      "execution_count": null,
      "outputs": [
        {
          "output_type": "execute_result",
          "data": {
            "text/plain": [
              "pandas.core.frame.DataFrame"
            ]
          },
          "metadata": {},
          "execution_count": 49
        }
      ]
    },
    {
      "cell_type": "code",
      "source": [
        "for i in test[0]:\n",
        "  l=i.split('\",\"')\n",
        "  print(l)\n",
        "  break"
      ],
      "metadata": {
        "colab": {
          "base_uri": "https://localhost:8080/"
        },
        "id": "qcOo_cPpFI_P",
        "outputId": "5182150a-4961-439b-b95c-3a44b0d73e29"
      },
      "execution_count": null,
      "outputs": [
        {
          "output_type": "stream",
          "name": "stdout",
          "text": [
            "['{\"article_id\": \"PMC5075302\", \"article_text\": [\"anxiety affects quality of life in those living with parkinson \\'s disease ( pd ) more so than overall cognitive status , motor deficits , apathy , and depression [ 13 ] .\", \"although anxiety and depression are often related and coexist in pd patients , recent research suggests that anxiety rather than depression is the most prominent and prevalent mood disorder in pd [ 5 , 6 ] . yet ,\", \"our current understanding of anxiety and its impact on cognition in pd , as well as its neural basis and best treatment practices , remains meager and lags far behind that of depression .\", \"overall , neuropsychiatric symptoms in pd have been shown to be negatively associated with cognitive performance .\", \"for example , higher depression scores have been correlated with lower scores on the mini - mental state exam ( mmse ) [ 8 , 9 ] as well as tests of memory and executive functions ( e.g. , attention ) [ 1014 ] .\", \"likewise , apathy and anhedonia in pd patients have been associated with executive dysfunction [ 10 , 1523 ] .\", \"however , few studies have specifically investigated the relationship between anxiety and cognition in pd .\", \"one study showed a strong negative relationship between anxiety ( both state and trait ) and overall cognitive performance ( measured by the total of the repeatable battery for the assessment of neuropsychological status index ) within a sample of 27 pd patients .\", \"furthermore , trait anxiety was negatively associated with each of the cognitive domains assessed by the rbans ( i.e. , immediate memory , visuospatial construction , language , attention , and delayed memory ) .\", \"two further studies have examined whether anxiety differentially affects cognition in patients with left - sided dominant pd ( lpd ) versus right - sided dominant pd ( rpd ) ; however , their findings were inconsistent .\", \"the first study found that working memory performance was worse in lpd patients with anxiety compared to rpd patients with anxiety , whereas the second study reported that , in lpd , apathy but not anxiety was associated with performance on nonverbally mediated executive functions and visuospatial tasks ( e.g. , tmt - b , wms - iii spatial span ) , while in rpd , anxiety but not apathy significantly correlated with performance on verbally mediated tasks ( e.g. , clock reading test and boston naming test ) .\", \"furthermore , anxiety was significantly correlated with neuropsychological measures of attention and executive and visuospatial functions . taken together ,\", \"it is evident that there are limited and inconsistent findings describing the relationship between anxiety and cognition in pd and more specifically how anxiety might influence particular domains of cognition such as attention and memory and executive functioning .\", \"it is also striking that , to date , no study has examined the influence of anxiety on cognition in pd by directly comparing groups of pd patients with and without anxiety while excluding depression .\", \"given that research on healthy young adults suggests that anxiety reduces processing capacity and impairs processing efficiency , especially in the central executive and attentional systems of working memory [ 26 , 27 ] , we hypothesized that pd patients with anxiety would show impairments in attentional set - shifting and working memory compared to pd patients without anxiety .\", \"furthermore , since previous work , albeit limited , has focused on the influence of symptom laterality on anxiety and cognition , we also explored this relationship .\", \"seventeen pd patients with anxiety and thirty - three pd patients without anxiety were included in this study ( see table 1 ) .\", \"the cross - sectional data from these participants was taken from a patient database that has been compiled over the past 8 years ( since 2008 ) at the parkinson \\'s disease research clinic at the brain and mind centre , university of sydney .\", \"inclusion criteria involved a diagnosis of idiopathic pd according to the united kingdom parkinson \\'s disease society brain bank criteria   and were confirmed by a neurologist ( sjgl ) .\", \"patients also had to have an adequate proficiency in english and have completed a full neuropsychological assessment .\", \"ten patients in this study ( 5 pd with anxiety ; 5 pd without anxiety ) were taking psychotropic drugs ( i.e. , benzodiazepine or selective serotonin reuptake inhibitor ) .\", \"patients were also excluded if they had other neurological disorders , psychiatric disorders other than affective disorders ( such as anxiety ) , or if they reported a score greater than six on the depression subscale of the hospital anxiety and depression scale ( hads ) .\", \"thus , all participants who scored within a  depressed  ( hads - d > 6 ) range were excluded from this study , in attempt to examine a refined sample of pd patients with and without anxiety in order to determine the independent effect of anxiety on cognition .\", \"this research was approved by the human research ethics committee of the university of sydney , and written informed consent was obtained from all participants .\", \"self - reported hads was used to assess anxiety in pd and has been previously shown to be a useful measure of clinical anxiety in pd .\", \"a cut - off score of > 8 on the anxiety subscale of the hads ( hads - a ) was used to identify pd cases with anxiety ( pda+ ) , while a cut - off score of < 6 on the hads - a was used to identify pd cases without anxiety ( pda ) .\", \"this criterion was more stringent than usual ( > 7 cut - off score ) , in effort to create distinct patient groups .\", \"the neurological evaluation rated participants according to hoehn and yahr ( h&y ) stages   and assessed their motor symptoms using part iii of the revised mds task force unified parkinson \\'s disease rating scale ( updrs ) . in a similar way\", \"this was determined by calculating a total left and right score from rigidity items 3035 , voluntary movement items 3643 , and tremor items 5057 from the mds - updrs part iii ( see table 1 ) .\", \"processing speed was assessed using the trail making test , part a ( tmt - a , z - score ) .\", \"attentional set - shifting was measured using the trail making test , part b ( tmt - b , z - score ) .\", \"working memory was assessed using the digit span forward and backward subtest of the wechsler memory scale - iii ( raw scores ) .\", \"language was assessed with semantic and phonemic verbal fluency via the controlled oral word associated test ( cowat animals and letters , z - score ) .\", \"the ability to retain learned verbal memory was assessed using the logical memory subtest from the wechsler memory scale - iii ( lm - i z - score , lm - ii z - score , % lm retention z - score ) . the mini - mental state examination ( mmse )\", \"demographic , clinical , and neuropsychological variables were compared between the two groups with the independent t - test or mann  whitney u test , depending on whether the variable met parametric assumptions .\", \"chi - square tests were used to examine gender and symptom laterality differences between groups .\", \"all analyses employed an alpha level of p < 0.05 and were two - tailed .\", \"spearman correlations were performed separately in each group to examine associations between anxiety and/or depression ratings and cognitive functions .\", \"as expected , the pda+ group reported significant greater levels of anxiety on the hads - a ( u = 0 , p < 0.001 ) and higher total score on the hads ( u = 1 , p < 0.001 ) compared to the pda group ( table 1 ) .\", \"groups were matched in age ( t(48 ) = 1.31 , p = 0.20 ) , disease duration ( u = 259 , p = 0.66 ) , updrs - iii score ( u = 250.5 , p = 0.65 ) , h&y ( u = 245 , p = 0.43 ) , ledd ( u = 159.5 , p = 0.80 ) , and depression ( hads - d ) ( u = 190.5 , p = 0.06 ) .\", \"additionally , all groups were matched in the distribution of gender (  = 0.098 , p = 0.75 ) and side - affected (  = 0.765 , p = 0.38 ) .\", \"there were no group differences for tmt - a performance ( u = 256 , p = 0.62 ) ( table 2 ) ; however , the pda+ group had worse performance on the trail making test part b ( t(46 ) = 2.03 , p = 0.048 ) compared to the pda group ( figure 1 ) .\", \"the pda+ group also demonstrated significantly worse performance on the digit span forward subtest ( t(48 ) = 2.22 , p = 0.031 ) and backward subtest ( u = 190.5 , p = 0.016 ) compared to the pda group ( figures 2(a ) and 2(b ) ) .\", \"neither semantic verbal fluency ( t(47 ) = 0.70 , p = 0.49 ) nor phonemic verbal fluency ( t(47 ) = 0.39 , p = 0.70 ) differed between groups .\", \"logical memory i immediate recall test ( u = 176 , p = 0.059 ) showed a trend that the pda+ group had worse new verbal learning and immediate recall abilities than the pda group . however , logical memory ii test performance ( u = 219 , p = 0.204 ) and logical memory % retention ( u = 242.5 , p = 0.434 ) did not differ between groups .\", \"there were also no differences between groups in global cognition ( mmse ) ( u = 222.5 , p = 0.23 ) .\", \"participants were split into lpd and rpd , and then further group differences were examined between pda+ and pda. importantly , the groups remained matched in age , disease duration , updrs - iii , dde , h&y stage , and depression but remained significantly different on self - reported anxiety .\", \"lpda+ demonstrated worse performance on the digit span forward test ( t(19 ) = 2.29 , p = 0.033 ) compared to lpda , whereas rpda+ demonstrated worse performance on the digit span backward test ( u = 36.5 , p = 0.006 ) , lm - i immediate recall ( u = 37.5 , p = 0.008 ) , and lm - ii ( u = 45.0 , p = 0.021 ) but not lm % retention ( u = 75.5 , p = 0.39 ) compared to rpda.\", \"this study is the first to directly compare cognition between pd patients with and without anxiety .\", \"the findings confirmed our hypothesis that anxiety negatively influences attentional set - shifting and working memory in pd .\", \"more specifically , we found that pd patients with anxiety were more impaired on the trail making test part b which assessed attentional set - shifting , on both digit span tests which assessed working memory and attention , and to a lesser extent on the logical memory test which assessed memory and new verbal learning compared to pd patients without anxiety . taken together ,\", \"these findings suggest that anxiety in pd may reduce processing capacity and impair processing efficiency , especially in the central executive and attentional systems of working memory in a similar way as seen in young healthy adults [ 26 , 27 ] .\", \"although the neurobiology of anxiety in pd remains unknown , many researchers have postulated that anxiety disorders are related to neurochemical changes that occur during the early , premotor stages of pd - related degeneration [ 37 , 38 ] such as nigrostriatal dopamine depletion , as well as cell loss within serotonergic and noradrenergic brainstem nuclei ( i.e. , raphe nuclei and locus coeruleus , resp . , which provide massive inputs to corticolimbic regions ) . over time\", \", chronic dysregulation of adrenocortical and catecholamine functions can lead to hippocampal damage as well as dysfunctional prefrontal neural circuitries [ 39 , 40 ] , which play a key role in memory and attention .\", \"recent functional neuroimaging work has suggested that enhanced hippocampal activation during executive functioning and working memory tasks may represent compensatory processes for impaired frontostriatal functions in pd patients compared to controls . therefore , chronic stress from anxiety ,\", \"for example , may disrupt compensatory processes in pd patients and explain the cognitive impairments specifically in working memory and attention seen in pd patients with anxiety .\", \"it has also been suggested that hyperactivation within the putamen may reflect a compensatory striatal mechanism to maintain normal working memory performance in pd patients ; however , losing this compensatory activation has been shown to contribute to poor working memory performance .\", \"anxiety in mild pd has been linked to reduced putamen dopamine uptake which becomes more extensive as the disease progresses .\", \"this further supports the notion that anxiety may disrupt compensatory striatal mechanisms as well , providing another possible explanation for the cognitive impairments observed in pd patients with anxiety in this study .\", \"noradrenergic and serotonergic systems should also be considered when trying to explain the mechanisms by which anxiety may influence cognition in pd . although these neurotransmitter systems are relatively understudied in pd cognition , treating the noradrenergic and serotonergic systems has shown beneficial effects on cognition in pd .\", \"selective serotonin reuptake inhibitor , citalopram , was shown to improve response inhibition deficits in pd , while noradrenaline reuptake blocker , atomoxetine , has been recently reported to have promising effects on cognition in pd [ 45 , 46 ] .\", \"overall , very few neuroimaging studies have been conducted in pd in order to understand the neural correlates of pd anxiety and its underlying neural pathology .\", \"future research should focus on relating anatomical changes and neurochemical changes to neural activation in order to gain a clearer understanding on how these pathologies affect anxiety in pd . to further understand how anxiety and cognitive dysfunction are related ,\", \"future research should focus on using advanced structural and function imaging techniques to explain both cognitive and neural breakdowns that are associated with anxiety in pd patients .\", \"research has indicated that those with amnestic mild cognitive impairment who have more neuropsychiatric symptoms have a greater risk of developing dementia compared to those with fewer neuropsychiatric symptoms .\", \"future studies should also examine whether treating neuropsychiatric symptoms might impact the progression of cognitive decline and improve cognitive impairments in pd patients .\", \"previous studies have used pd symptom laterality as a window to infer asymmetrical dysfunction of neural circuits .\", \"for example , lpd patients have greater inferred right hemisphere pathology , whereas rpd patients have greater inferred left hemisphere pathology .\", \"thus , cognitive domains predominantly subserved by the left hemisphere ( e.g. , verbally mediated tasks of executive function and verbal memory ) might be hypothesized to be more affected in rpd than lpd ; however , this remains controversial .\", \"it has also been suggested that since anxiety is a common feature of left hemisphere involvement [ 48 , 49 ] , cognitive domains subserved by the left hemisphere may also be more strongly related to anxiety .\", \"results from this study showed selective verbal memory deficits in rpd patients with anxiety compared to rpd without anxiety , whereas lpd patients with anxiety had greater attentional / working memory deficits compared to lpd without anxiety .\", \"although these results align with previous research , interpretations of these findings should be made with caution due to the small sample size in the lpd comparison specifically .\", \"recent work has suggested that the hads questionnaire may underestimate the burden of anxiety related symptomology and therefore be a less sensitive measure of anxiety in pd [ 30 , 50 ] . in addition , our small sample size also limited the statistical power for detecting significant findings .\", \"based on these limitations , our findings are likely conservative and underrepresent the true impact anxiety has on cognition in pd . additionally , the current study employed a very brief neuropsychological assessment including one or two tests for each cognitive domain .\", \"future studies are encouraged to collect a more complex and comprehensive battery from a larger sample of pd participants in order to better understand the role anxiety plays on cognition in pd .\", \"another limitation of this study was the absence of diagnostic interviews to characterize participants \\' psychiatric symptoms and specify the type of anxiety disorders included in this study .\", \"future studies should perform diagnostic interviews with participants ( e.g. , using dsm - v criteria ) rather than relying on self - reported measures to group participants , in order to better understand whether the type of anxiety disorder ( e.g. , social anxiety , phobias , panic disorders , and generalized anxiety ) influences cognitive performance differently in pd .\", \"one advantage the hads questionnaire provided over other anxiety scales was that it assessed both anxiety and depression simultaneously and allowed us to control for coexisting depression .\", \"although there was a trend that the pda+ group self - reported higher levels of depression than the pda group , all participants included in the study scored < 6 on the depression subscale of the hads .\", \"controlling for depression while assessing anxiety has been identified as a key shortcoming in the majority of recent work .\", \"considering many previous studies have investigated the influence of depression on cognition in pd without accounting for the presence of anxiety and the inconsistent findings reported to date , we recommend that future research should try to disentangle the influence of anxiety versus depression on cognitive impairments in pd . considering the growing number of clinical trials for treating depression , there are few if any for the treatment of anxiety in pd .\", \"anxiety is a key contributor to decreased quality of life in pd and greatly requires better treatment options .\", \"moreover , anxiety has been suggested to play a key role in freezing of gait ( fog ) , which is also related to attentional set - shifting [ 52 , 53 ] .\", \"future research should examine the link between anxiety , set - shifting , and fog , in order to determine whether treating anxiety might be a potential therapy for improving fog .\"], \"abstract_text\": [\"<S> research on the implications of anxiety in parkinson \\'s disease ( pd ) has been neglected despite its prevalence in nearly 50% of patients and its negative impact on quality of life . </S>\", \"<S> previous reports have noted that neuropsychiatric symptoms impair cognitive performance in pd patients ; however , to date , no study has directly compared pd patients with and without anxiety to examine the impact of anxiety on cognitive impairments in pd . </S>\", \"<S> this study compared cognitive performance across 50 pd participants with and without anxiety ( 17 pda+ ; 33 pda ) , who underwent neurological and neuropsychological assessment . </S>\", \"<S> group performance was compared across the following cognitive domains : simple attention / visuomotor processing speed , executive function ( e.g. , set - shifting ) , working memory , language , and memory / new verbal learning . </S>\", \"<S> results showed that pda+ performed significantly worse on the digit span forward and backward test and part b of the trail making task ( tmt - b ) compared to the pda group . </S>\", \"<S> there were no group differences in verbal fluency , logical memory , or tmt - a performance . in conclusion , </S>\", \"<S> anxiety in pd has a measurable impact on working memory and attentional set - shifting . </S>\"], \"labels\": null, \"section_names\": [\"1. Introduction\", \"2. Methods\", \"3. Results\", \"4. Discussion\"], \"sections\": [[\"anxiety affects quality of life in those living with parkinson \\'s disease ( pd ) more so than overall cognitive status , motor deficits , apathy , and depression [ 13 ] .\", \"although anxiety and depression are often related and coexist in pd patients , recent research suggests that anxiety rather than depression is the most prominent and prevalent mood disorder in pd [ 5 , 6 ] . yet ,\", \"our current understanding of anxiety and its impact on cognition in pd , as well as its neural basis and best treatment practices , remains meager and lags far behind that of depression .\", \"overall , neuropsychiatric symptoms in pd have been shown to be negatively associated with cognitive performance .\", \"for example , higher depression scores have been correlated with lower scores on the mini - mental state exam ( mmse ) [ 8 , 9 ] as well as tests of memory and executive functions ( e.g. , attention ) [ 1014 ] .\", \"likewise , apathy and anhedonia in pd patients have been associated with executive dysfunction [ 10 , 1523 ] .\", \"however , few studies have specifically investigated the relationship between anxiety and cognition in pd .\", \"one study showed a strong negative relationship between anxiety ( both state and trait ) and overall cognitive performance ( measured by the total of the repeatable battery for the assessment of neuropsychological status index ) within a sample of 27 pd patients .\", \"furthermore , trait anxiety was negatively associated with each of the cognitive domains assessed by the rbans ( i.e. , immediate memory , visuospatial construction , language , attention , and delayed memory ) .\", \"two further studies have examined whether anxiety differentially affects cognition in patients with left - sided dominant pd ( lpd ) versus right - sided dominant pd ( rpd ) ; however , their findings were inconsistent .\", \"the first study found that working memory performance was worse in lpd patients with anxiety compared to rpd patients with anxiety , whereas the second study reported that , in lpd , apathy but not anxiety was associated with performance on nonverbally mediated executive functions and visuospatial tasks ( e.g. , tmt - b , wms - iii spatial span ) , while in rpd , anxiety but not apathy significantly correlated with performance on verbally mediated tasks ( e.g. , clock reading test and boston naming test ) .\", \"furthermore , anxiety was significantly correlated with neuropsychological measures of attention and executive and visuospatial functions . taken together ,\", \"it is evident that there are limited and inconsistent findings describing the relationship between anxiety and cognition in pd and more specifically how anxiety might influence particular domains of cognition such as attention and memory and executive functioning .\", \"it is also striking that , to date , no study has examined the influence of anxiety on cognition in pd by directly comparing groups of pd patients with and without anxiety while excluding depression .\", \"given that research on healthy young adults suggests that anxiety reduces processing capacity and impairs processing efficiency , especially in the central executive and attentional systems of working memory [ 26 , 27 ] , we hypothesized that pd patients with anxiety would show impairments in attentional set - shifting and working memory compared to pd patients without anxiety .\", \"furthermore , since previous work , albeit limited , has focused on the influence of symptom laterality on anxiety and cognition , we also explored this relationship .\"], [\"seventeen pd patients with anxiety and thirty - three pd patients without anxiety were included in this study ( see table 1 ) .\", \"the cross - sectional data from these participants was taken from a patient database that has been compiled over the past 8 years ( since 2008 ) at the parkinson \\'s disease research clinic at the brain and mind centre , university of sydney .\", \"inclusion criteria involved a diagnosis of idiopathic pd according to the united kingdom parkinson \\'s disease society brain bank criteria   and were confirmed by a neurologist ( sjgl ) .\", \"patients also had to have an adequate proficiency in english and have completed a full neuropsychological assessment .\", \"ten patients in this study ( 5 pd with anxiety ; 5 pd without anxiety ) were taking psychotropic drugs ( i.e. , benzodiazepine or selective serotonin reuptake inhibitor ) .\", \"patients were also excluded if they had other neurological disorders , psychiatric disorders other than affective disorders ( such as anxiety ) , or if they reported a score greater than six on the depression subscale of the hospital anxiety and depression scale ( hads ) .\", \"thus , all participants who scored within a  depressed  ( hads - d > 6 ) range were excluded from this study , in attempt to examine a refined sample of pd patients with and without anxiety in order to determine the independent effect of anxiety on cognition .\", \"this research was approved by the human research ethics committee of the university of sydney , and written informed consent was obtained from all participants .\", \"self - reported hads was used to assess anxiety in pd and has been previously shown to be a useful measure of clinical anxiety in pd .\", \"a cut - off score of > 8 on the anxiety subscale of the hads ( hads - a ) was used to identify pd cases with anxiety ( pda+ ) , while a cut - off score of < 6 on the hads - a was used to identify pd cases without anxiety ( pda ) .\", \"this criterion was more stringent than usual ( > 7 cut - off score ) , in effort to create distinct patient groups .\", \"the neurological evaluation rated participants according to hoehn and yahr ( h&y ) stages   and assessed their motor symptoms using part iii of the revised mds task force unified parkinson \\'s disease rating scale ( updrs ) . in a similar way\", \"this was determined by calculating a total left and right score from rigidity items 3035 , voluntary movement items 3643 , and tremor items 5057 from the mds - updrs part iii ( see table 1 ) .\", \"processing speed was assessed using the trail making test , part a ( tmt - a , z - score ) .\", \"attentional set - shifting was measured using the trail making test , part b ( tmt - b , z - score ) .\", \"working memory was assessed using the digit span forward and backward subtest of the wechsler memory scale - iii ( raw scores ) .\", \"language was assessed with semantic and phonemic verbal fluency via the controlled oral word associated test ( cowat animals and letters , z - score ) .\", \"the ability to retain learned verbal memory was assessed using the logical memory subtest from the wechsler memory scale - iii ( lm - i z - score , lm - ii z - score , % lm retention z - score ) . the mini - mental state examination ( mmse )\", \"demographic , clinical , and neuropsychological variables were compared between the two groups with the independent t - test or mann  whitney u test , depending on whether the variable met parametric assumptions .\", \"chi - square tests were used to examine gender and symptom laterality differences between groups .\", \"all analyses employed an alpha level of p < 0.05 and were two - tailed .\", \"spearman correlations were performed separately in each group to examine associations between anxiety and/or depression ratings and cognitive functions .\"], [\"as expected , the pda+ group reported significant greater levels of anxiety on the hads - a ( u = 0 , p < 0.001 ) and higher total score on the hads ( u = 1 , p < 0.001 ) compared to the pda group ( table 1 ) .\", \"groups were matched in age ( t(48 ) = 1.31 , p = 0.20 ) , disease duration ( u = 259 , p = 0.66 ) , updrs - iii score ( u = 250.5 , p = 0.65 ) , h&y ( u = 245 , p = 0.43 ) , ledd ( u = 159.5 , p = 0.80 ) , and depression ( hads - d ) ( u = 190.5 , p = 0.06 ) .\", \"additionally , all groups were matched in the distribution of gender (  = 0.098 , p = 0.75 ) and side - affected (  = 0.765 , p = 0.38 ) .\", \"there were no group differences for tmt - a performance ( u = 256 , p = 0.62 ) ( table 2 ) ; however , the pda+ group had worse performance on the trail making test part b ( t(46 ) = 2.03 , p = 0.048 ) compared to the pda group ( figure 1 ) .\", \"the pda+ group also demonstrated significantly worse performance on the digit span forward subtest ( t(48 ) = 2.22 , p = 0.031 ) and backward subtest ( u = 190.5 , p = 0.016 ) compared to the pda group ( figures 2(a ) and 2(b ) ) .\", \"neither semantic verbal fluency ( t(47 ) = 0.70 , p = 0.49 ) nor phonemic verbal fluency ( t(47 ) = 0.39 , p = 0.70 ) differed between groups .\", \"logical memory i immediate recall test ( u = 176 , p = 0.059 ) showed a trend that the pda+ group had worse new verbal learning and immediate recall abilities than the pda group . however , logical memory ii test performance ( u = 219 , p = 0.204 ) and logical memory % retention ( u = 242.5 , p = 0.434 ) did not differ between groups .\", \"there were also no differences between groups in global cognition ( mmse ) ( u = 222.5 , p = 0.23 ) .\", \"participants were split into lpd and rpd , and then further group differences were examined between pda+ and pda. importantly , the groups remained matched in age , disease duration , updrs - iii , dde , h&y stage , and depression but remained significantly different on self - reported anxiety .\", \"lpda+ demonstrated worse performance on the digit span forward test ( t(19 ) = 2.29 , p = 0.033 ) compared to lpda , whereas rpda+ demonstrated worse performance on the digit span backward test ( u = 36.5 , p = 0.006 ) , lm - i immediate recall ( u = 37.5 , p = 0.008 ) , and lm - ii ( u = 45.0 , p = 0.021 ) but not lm % retention ( u = 75.5 , p = 0.39 ) compared to rpda.\"], [\"this study is the first to directly compare cognition between pd patients with and without anxiety .\", \"the findings confirmed our hypothesis that anxiety negatively influences attentional set - shifting and working memory in pd .\", \"more specifically , we found that pd patients with anxiety were more impaired on the trail making test part b which assessed attentional set - shifting , on both digit span tests which assessed working memory and attention , and to a lesser extent on the logical memory test which assessed memory and new verbal learning compared to pd patients without anxiety . taken together ,\", \"these findings suggest that anxiety in pd may reduce processing capacity and impair processing efficiency , especially in the central executive and attentional systems of working memory in a similar way as seen in young healthy adults [ 26 , 27 ] .\", \"although the neurobiology of anxiety in pd remains unknown , many researchers have postulated that anxiety disorders are related to neurochemical changes that occur during the early , premotor stages of pd - related degeneration [ 37 , 38 ] such as nigrostriatal dopamine depletion , as well as cell loss within serotonergic and noradrenergic brainstem nuclei ( i.e. , raphe nuclei and locus coeruleus , resp . , which provide massive inputs to corticolimbic regions ) . over time\", \", chronic dysregulation of adrenocortical and catecholamine functions can lead to hippocampal damage as well as dysfunctional prefrontal neural circuitries [ 39 , 40 ] , which play a key role in memory and attention .\", \"recent functional neuroimaging work has suggested that enhanced hippocampal activation during executive functioning and working memory tasks may represent compensatory processes for impaired frontostriatal functions in pd patients compared to controls . therefore , chronic stress from anxiety ,\", \"for example , may disrupt compensatory processes in pd patients and explain the cognitive impairments specifically in working memory and attention seen in pd patients with anxiety .\", \"it has also been suggested that hyperactivation within the putamen may reflect a compensatory striatal mechanism to maintain normal working memory performance in pd patients ; however , losing this compensatory activation has been shown to contribute to poor working memory performance .\", \"anxiety in mild pd has been linked to reduced putamen dopamine uptake which becomes more extensive as the disease progresses .\", \"this further supports the notion that anxiety may disrupt compensatory striatal mechanisms as well , providing another possible explanation for the cognitive impairments observed in pd patients with anxiety in this study .\", \"noradrenergic and serotonergic systems should also be considered when trying to explain the mechanisms by which anxiety may influence cognition in pd . although these neurotransmitter systems are relatively understudied in pd cognition , treating the noradrenergic and serotonergic systems has shown beneficial effects on cognition in pd .\", \"selective serotonin reuptake inhibitor , citalopram , was shown to improve response inhibition deficits in pd , while noradrenaline reuptake blocker , atomoxetine , has been recently reported to have promising effects on cognition in pd [ 45 , 46 ] .\", \"overall , very few neuroimaging studies have been conducted in pd in order to understand the neural correlates of pd anxiety and its underlying neural pathology .\", \"future research should focus on relating anatomical changes and neurochemical changes to neural activation in order to gain a clearer understanding on how these pathologies affect anxiety in pd . to further understand how anxiety and cognitive dysfunction are related ,\", \"future research should focus on using advanced structural and function imaging techniques to explain both cognitive and neural breakdowns that are associated with anxiety in pd patients .\", \"research has indicated that those with amnestic mild cognitive impairment who have more neuropsychiatric symptoms have a greater risk of developing dementia compared to those with fewer neuropsychiatric symptoms .\", \"future studies should also examine whether treating neuropsychiatric symptoms might impact the progression of cognitive decline and improve cognitive impairments in pd patients .\", \"previous studies have used pd symptom laterality as a window to infer asymmetrical dysfunction of neural circuits .\", \"for example , lpd patients have greater inferred right hemisphere pathology , whereas rpd patients have greater inferred left hemisphere pathology .\", \"thus , cognitive domains predominantly subserved by the left hemisphere ( e.g. , verbally mediated tasks of executive function and verbal memory ) might be hypothesized to be more affected in rpd than lpd ; however , this remains controversial .\", \"it has also been suggested that since anxiety is a common feature of left hemisphere involvement [ 48 , 49 ] , cognitive domains subserved by the left hemisphere may also be more strongly related to anxiety .\", \"results from this study showed selective verbal memory deficits in rpd patients with anxiety compared to rpd without anxiety , whereas lpd patients with anxiety had greater attentional / working memory deficits compared to lpd without anxiety .\", \"although these results align with previous research , interpretations of these findings should be made with caution due to the small sample size in the lpd comparison specifically .\", \"recent work has suggested that the hads questionnaire may underestimate the burden of anxiety related symptomology and therefore be a less sensitive measure of anxiety in pd [ 30 , 50 ] . in addition , our small sample size also limited the statistical power for detecting significant findings .\", \"based on these limitations , our findings are likely conservative and underrepresent the true impact anxiety has on cognition in pd . additionally , the current study employed a very brief neuropsychological assessment including one or two tests for each cognitive domain .\", \"future studies are encouraged to collect a more complex and comprehensive battery from a larger sample of pd participants in order to better understand the role anxiety plays on cognition in pd .\", \"another limitation of this study was the absence of diagnostic interviews to characterize participants \\' psychiatric symptoms and specify the type of anxiety disorders included in this study .\", \"future studies should perform diagnostic interviews with participants ( e.g. , using dsm - v criteria ) rather than relying on self - reported measures to group participants , in order to better understand whether the type of anxiety disorder ( e.g. , social anxiety , phobias , panic disorders , and generalized anxiety ) influences cognitive performance differently in pd .\", \"one advantage the hads questionnaire provided over other anxiety scales was that it assessed both anxiety and depression simultaneously and allowed us to control for coexisting depression .\", \"although there was a trend that the pda+ group self - reported higher levels of depression than the pda group , all participants included in the study scored < 6 on the depression subscale of the hads .\", \"controlling for depression while assessing anxiety has been identified as a key shortcoming in the majority of recent work .\", \"considering many previous studies have investigated the influence of depression on cognition in pd without accounting for the presence of anxiety and the inconsistent findings reported to date , we recommend that future research should try to disentangle the influence of anxiety versus depression on cognitive impairments in pd . considering the growing number of clinical trials for treating depression , there are few if any for the treatment of anxiety in pd .\", \"anxiety is a key contributor to decreased quality of life in pd and greatly requires better treatment options .\", \"moreover , anxiety has been suggested to play a key role in freezing of gait ( fog ) , which is also related to attentional set - shifting [ 52 , 53 ] .\", \"future research should examine the link between anxiety , set - shifting , and fog , in order to determine whether treating anxiety might be a potential therapy for improving fog .\"]]}\\n']\n"
          ]
        }
      ]
    },
    {
      "cell_type": "code",
      "source": [
        "for i in l:\n",
        "  print(i)\n",
        "l[0]"
      ],
      "metadata": {
        "id": "nBjjOWkSGE4a"
      },
      "execution_count": null,
      "outputs": []
    },
    {
      "cell_type": "code",
      "source": [
        "\n",
        "\n",
        "   \n",
        "# bydefault splitting is done on the basis of single space.\n",
        "print(\"\\nSplitting 'Name' column into two different columns :\\n\",test.0.str.split(expand=True))"
      ],
      "metadata": {
        "id": "KCmFbJqJGWjx"
      },
      "execution_count": null,
      "outputs": []
    },
    {
      "cell_type": "code",
      "source": [],
      "metadata": {
        "id": "nXr3nzVmGtYH"
      },
      "execution_count": null,
      "outputs": []
    }
  ]
}